{
 "cells": [
  {
   "cell_type": "markdown",
   "metadata": {},
   "source": [
    "This notebook explains use of Sequential NN architecture, Residual Connection and Inception layers architecture models. Each of such architectures have their specific design methodology and have been explained below with case study. Quite a few images referred into this notebook are being ibtained from published article and i acknowlddge their contribution for this. Have used openly available bengali charecters for identification.\n",
    "\n",
    "Case study is about identification of bengali charecter and have used public dataset for testing. Have used Resnet, Inception layer and Sequential network architecture to implement the same. Aim here is to explain how we can deploy the network.\n",
    "Following network optimistaion approaches have been used here.\n",
    "- Reducing learning rate with validtaion loss monitoring\n",
    "- Transfer Learning\n",
    "- Layers weights manipulation for trainable and non-trainable\n"
   ]
  },
  {
   "cell_type": "code",
   "execution_count": 1,
   "metadata": {},
   "outputs": [
    {
     "name": "stderr",
     "output_type": "stream",
     "text": [
      "Using TensorFlow backend.\n"
     ]
    }
   ],
   "source": [
    "import numpy as np\n",
    "import scipy\n",
    "import os\n",
    "import keras\n",
    "from keras.datasets import cifar10\n",
    "from keras.models import Model, Sequential\n",
    "from keras.layers import Dense, Dropout, Flatten, Input, AveragePooling2D, merge, Activation,Add,ZeroPadding2D,GlobalMaxPooling2D\n",
    "from keras.layers import Conv2D, MaxPooling2D, BatchNormalization,regularizers,Convolution2D\n",
    "from keras.preprocessing .image import ImageDataGenerator\n",
    "from keras.layers import Concatenate\n",
    "from keras.optimizers import Adam\n",
    "from keras.callbacks import ModelCheckpoint, EarlyStopping\n",
    "from keras.utils.np_utils import to_categorical\n",
    "from keras.optimizers import SGD\n",
    "from matplotlib import pyplot as plt   \n",
    "from keras.datasets import mnist\n",
    "from keras.utils import np_utils\n",
    "from keras.models import load_model\n",
    "from keras import regularizers\n",
    "import cv2\n",
    "#FinalModel.add(modelNew)\n",
    "from keras import regularizers\n",
    "from keras import layers\n",
    "from keras.callbacks import *\n",
    "from keras import applications\n",
    "import sys\n",
    "from sklearn.metrics import confusion_matrix\n",
    "from keras.layers import Input\n",
    "from keras import initializers\n"
   ]
  },
  {
   "cell_type": "markdown",
   "metadata": {},
   "source": [
    "# Image Loading"
   ]
  },
  {
   "cell_type": "markdown",
   "metadata": {},
   "source": [
    "Data is being divided into Testing and train data and we are counting the number of image here"
   ]
  },
  {
   "cell_type": "code",
   "execution_count": 2,
   "metadata": {},
   "outputs": [
    {
     "name": "stdout",
     "output_type": "stream",
     "text": [
      "C:\\Users\\akayal\\Devapps\n",
      "Path Is: ../bengalilang/Train/\n",
      "No of Training Bengali Images: 50\n",
      "No of Test Images: 50\n"
     ]
    }
   ],
   "source": [
    "ROOT_DIR = os.path.abspath(\"../\")\n",
    "print(ROOT_DIR)\n",
    "TRAIN_DIR = '../bengalilang/Train/'\n",
    "\n",
    "TEST_DIR = '../bengalilang/Test/'\n",
    "\n",
    "print(\"Path Is:\",TRAIN_DIR)\n",
    "\n",
    "#sys.path.append(os.path.join(ROOT_DIR, EXTENSION_PATH))  # To find local version\n",
    "\n",
    "train =   [TRAIN_DIR for inputD in os.listdir(TRAIN_DIR)]\n",
    "test =  [TEST_DIR for inputT in os.listdir(TEST_DIR) ]\n",
    "\n",
    "\n",
    "print(\"No of Training Bengali Images:\",len(train))\n",
    "print(\"No of Test Images:\",len(test))"
   ]
  },
  {
   "cell_type": "markdown",
   "metadata": {},
   "source": [
    "This function is being used to plot training, validation accuracy and loss w.r.t epocs."
   ]
  },
  {
   "cell_type": "code",
   "execution_count": 3,
   "metadata": {},
   "outputs": [],
   "source": [
    "def plot_training(mhistory):\n",
    "    Fntnvggacc = mhistory.history['acc']\n",
    "    Fntnvggval_acc = mhistory.history['val_acc']\n",
    "    Fntnvggloss = mhistory.history['loss']\n",
    "    Fntnvggval_loss = mhistory.history['val_loss']\n",
    "    Fntnvggepochs = range(1, len(Fntnvggacc) + 1)\n",
    "    plt.plot(mhistory, Fntnvggacc, 'bo', label='Training acc')\n",
    "    plt.plot(mhistory, Fntnvggval_acc, 'b', label='Validation acc')\n",
    "    plt.title('Training and validation accuracy')\n",
    "    plt.legend()\n",
    "    plt.figure()\n",
    "    plt.savefig('accuracy.png')\n",
    "    \n",
    "    plt.plot(Fntnvggepochs, Fntnvggloss, 'bo', label='Training loss')\n",
    "    plt.plot(Fntnvggepochs, Fntnvggval_loss, 'b', label='Validation loss')\n",
    "    plt.title('Training and validation loss -VGG with Finetune')\n",
    "    plt.legend()\n",
    "    plt.show()\n",
    "\n",
    "    acc = history.history['acc']\n",
    "    val_acc = history.history['val_acc']\n",
    "    loss = history.history['loss']\n",
    "    val_loss = history.history['val_loss']\n",
    "    epochs = range(len(acc))\n",
    "    \n",
    "    plt.plot(epochs, acc, 'r.')\n",
    "    plt.plot(epochs, val_acc, 'r')\n",
    "    plt.title('Training and validation accuracy')\n",
    "    plt.savefig('accuracy.png')\n",
    "    \n",
    "    plt.figure()\n",
    "    plt.plot(epochs, loss, 'r.')\n",
    "    plt.plot(epochs, val_loss, 'r-')\n",
    "    plt.title('Training and validation loss')\n",
    "    plt.savefig('loss.png')"
   ]
  },
  {
   "cell_type": "markdown",
   "metadata": {},
   "source": [
    "Here we will use the monitoring capability of validation loss and if this does not get reduced by 5 iteration then it will be going to early stopping."
   ]
  },
  {
   "cell_type": "code",
   "execution_count": 4,
   "metadata": {},
   "outputs": [],
   "source": [
    "#reduce_lr_rev = ReduceLROnPlateau(monitor='val_loss', factor=0.002,\n",
    " #                             patience=2, min_lr=0.005)\n",
    "\n",
    "reduce_lr_rev = ReduceLROnPlateau(monitor='val_loss', factor=0.2,\n",
    "                              patience=5, min_lr=0.001)"
   ]
  },
  {
   "cell_type": "markdown",
   "metadata": {},
   "source": [
    "We will use image preprocessing here for our training data. This will help our model to be generalised."
   ]
  },
  {
   "cell_type": "code",
   "execution_count": 5,
   "metadata": {},
   "outputs": [],
   "source": [
    "# we create two instances with the same arguments\n",
    "data_gen_args_rev = dict(\n",
    "    rescale=1./255,\n",
    "    rotation_range=35,\n",
    "    shear_range=0.25,\n",
    "    zoom_range=0.25,\n",
    "    horizontal_flip=True,\n",
    "    fill_mode='nearest',\n",
    "    validation_split=0.35\n",
    ")\n"
   ]
  },
  {
   "cell_type": "markdown",
   "metadata": {},
   "source": [
    "We are not using any preprocessing for validation data and only doing the rescaling as NN works better when data's are scaled."
   ]
  },
  {
   "cell_type": "code",
   "execution_count": 6,
   "metadata": {},
   "outputs": [],
   "source": [
    "## validation data are not being augmented\n",
    "val_data_gen_args_rev = dict(\n",
    "        #rotation_range=10,\n",
    "       # width_shift_range=0.1,\n",
    "       # height_shift_range=0.1,\n",
    "        rescale=1./255)\n"
   ]
  },
  {
   "cell_type": "code",
   "execution_count": 7,
   "metadata": {},
   "outputs": [],
   "source": [
    "image_datagen_prep_rev = ImageDataGenerator(**data_gen_args_rev)\n",
    "test_image_datagen_prep_rev = ImageDataGenerator(**val_data_gen_args_rev)"
   ]
  },
  {
   "cell_type": "markdown",
   "metadata": {},
   "source": [
    "Here class_mode not provided and Default: None. If not provided, the list of classes will be automatically inferred from the subdirectory names/structure under directory, where each subdirectory will be treated as a different class (and the order of the classes, which will map to the label indices, will be alphanumeric). The dictionary containing the mapping from class names to class indices can be obtained via the attribute class_indices."
   ]
  },
  {
   "cell_type": "code",
   "execution_count": 8,
   "metadata": {},
   "outputs": [
    {
     "name": "stdout",
     "output_type": "stream",
     "text": [
      "Found 7800 images belonging to 50 classes.\n",
      "Found 4200 images belonging to 50 classes.\n"
     ]
    }
   ],
   "source": [
    "\n",
    "BATCH_SIZE =64\n",
    "image_width =50\n",
    "image_height=50\n",
    "\n",
    "train_generator_data_rev = image_datagen_prep_rev.flow_from_directory(directory = TRAIN_DIR,\n",
    "                                                                      target_size=(image_width,image_height),\n",
    "                                                                      class_mode='categorical',\n",
    "                                                                      batch_size=BATCH_SIZE,\n",
    "                                                                      subset=\"training\")\n",
    "\n",
    "validation_generator_data_rev = image_datagen_prep_rev.flow_from_directory(directory = TRAIN_DIR,\n",
    "                                                                           target_size=(image_width,image_height),\n",
    "                                                                           class_mode='categorical',\n",
    "                                                                           batch_size=BATCH_SIZE,\n",
    "                                                                           seed=13,\n",
    "                                                                           subset=\"validation\")\n"
   ]
  },
  {
   "cell_type": "code",
   "execution_count": 9,
   "metadata": {},
   "outputs": [
    {
     "name": "stdout",
     "output_type": "stream",
     "text": [
      "Found 3000 images belonging to 50 classes.\n"
     ]
    }
   ],
   "source": [
    "test_generator_data_rev = test_image_datagen_prep_rev.flow_from_directory(directory = TEST_DIR,\n",
    "                                                                           target_size=(image_width,image_height),\n",
    "                                                                           class_mode='categorical',\n",
    "                                                                           batch_size=BATCH_SIZE)"
   ]
  },
  {
   "cell_type": "markdown",
   "metadata": {},
   "source": [
    "# Sequential Neural Network "
   ]
  },
  {
   "cell_type": "markdown",
   "metadata": {},
   "source": [
    "This is a sequential model and we have started with 32 filter initially and then gradually increased to 64 and 128. It is a standard practise to use less no of filter initially and then we increase no if filters. Softmax activation function being used for classification. Here we have 50 no of class and so no of neuron into last layer has been taken as same."
   ]
  },
  {
   "cell_type": "code",
   "execution_count": 33,
   "metadata": {},
   "outputs": [],
   "source": [
    "CNNModel_Rev = Sequential()\n",
    "\n",
    "#convolution 1st layer\n",
    "droprate=0.3\n",
    "droprateRev=0.5\n",
    "#convolution 1st layer\n",
    "CNNModel_Rev.add(Conv2D(32,(3,3), activation='relu', strides=(1, 1), padding='same', input_shape=(image_height,image_width,3),name =\"First_CV_Layer\"))\n",
    "#model.add(Conv2D(32,(3,1), activation='relu', strides=(1, 1), padding='valid',input_shape=input_24)#(input_24)\n",
    "CNNModel_Rev.add(BatchNormalization())\n",
    "CNNModel_Rev.add(MaxPooling2D())\n",
    "CNNModel_Rev.add(Dropout(droprate))#3\n",
    "\n",
    "#convolution 2nd layer\n",
    "CNNModel_Rev.add(Conv2D(64,(3,3), padding='valid',activation='relu',name =\"Second_CV_Layer\"))\n",
    "CNNModel_Rev.add(BatchNormalization())\n",
    "CNNModel_Rev.add(MaxPooling2D())\n",
    "CNNModel_Rev.add(Dropout(droprate))#3\n",
    "\n",
    "#convolution 3rd layer\n",
    "CNNModel_Rev.add(Conv2D(128,(3,3), padding='valid',activation='elu',name =\"Third_CV_Layer\"))\n",
    "CNNModel_Rev.add(BatchNormalization())\n",
    "CNNModel_Rev.add(MaxPooling2D())\n",
    "CNNModel_Rev.add(Dropout(droprateRev))#3\n",
    "\n",
    "#convolution 3rd layer\n",
    "CNNModel_Rev.add(Conv2D(256,(3,3), padding='valid',activation='elu',name =\"Fourth_CV_Layer\"))\n",
    "CNNModel_Rev.add(BatchNormalization())\n",
    "CNNModel_Rev.add(MaxPooling2D())\n",
    "CNNModel_Rev.add(Dropout(droprateRev))#3\n",
    "\n",
    "\n",
    "#convolution 3rd layer\n",
    "CNNModel_Rev.add(Conv2D(128,(1,1), activation='relu',name =\"Fifth_CV_Layer\"))\n",
    "CNNModel_Rev.add(BatchNormalization())\n",
    "#CNNModel_Rev.add(MaxPooling2D())\n",
    "CNNModel_Rev.add(Dropout(droprateRev))#3\n",
    "\n",
    "#Fully connected final layer\n",
    "CNNModel_Rev.add(Flatten())\n",
    "   \n",
    "CNNModel_Rev.add(Dense(256, activation='relu',name =\"First_FC_Layer\"))\n",
    "#CNNModel.add(Dropout(droprateRev))\n",
    "\n",
    "CNNModel_Rev.add(Dense(128, activation='relu',use_bias=False, kernel_initializer='glorot_uniform',name =\"Second_FC_Layer\"))\n",
    "#CNNModel.add(Dropout(droprateRev))#3\n",
    "\n",
    "\n",
    "CNNModel_Rev.add(Dense(50, activation='softmax'))\n"
   ]
  },
  {
   "cell_type": "code",
   "execution_count": 11,
   "metadata": {},
   "outputs": [
    {
     "name": "stdout",
     "output_type": "stream",
     "text": [
      "_________________________________________________________________\n",
      "Layer (type)                 Output Shape              Param #   \n",
      "=================================================================\n",
      "First_CV_Layer (Conv2D)      (None, 50, 50, 32)        896       \n",
      "_________________________________________________________________\n",
      "batch_normalization_1 (Batch (None, 50, 50, 32)        128       \n",
      "_________________________________________________________________\n",
      "max_pooling2d_1 (MaxPooling2 (None, 25, 25, 32)        0         \n",
      "_________________________________________________________________\n",
      "dropout_1 (Dropout)          (None, 25, 25, 32)        0         \n",
      "_________________________________________________________________\n",
      "Second_CV_Layer (Conv2D)     (None, 23, 23, 64)        18496     \n",
      "_________________________________________________________________\n",
      "batch_normalization_2 (Batch (None, 23, 23, 64)        256       \n",
      "_________________________________________________________________\n",
      "max_pooling2d_2 (MaxPooling2 (None, 11, 11, 64)        0         \n",
      "_________________________________________________________________\n",
      "dropout_2 (Dropout)          (None, 11, 11, 64)        0         \n",
      "_________________________________________________________________\n",
      "Third_CV_Layer (Conv2D)      (None, 9, 9, 128)         73856     \n",
      "_________________________________________________________________\n",
      "batch_normalization_3 (Batch (None, 9, 9, 128)         512       \n",
      "_________________________________________________________________\n",
      "max_pooling2d_3 (MaxPooling2 (None, 4, 4, 128)         0         \n",
      "_________________________________________________________________\n",
      "dropout_3 (Dropout)          (None, 4, 4, 128)         0         \n",
      "_________________________________________________________________\n",
      "Fourth_CV_Layer (Conv2D)     (None, 2, 2, 256)         295168    \n",
      "_________________________________________________________________\n",
      "batch_normalization_4 (Batch (None, 2, 2, 256)         1024      \n",
      "_________________________________________________________________\n",
      "max_pooling2d_4 (MaxPooling2 (None, 1, 1, 256)         0         \n",
      "_________________________________________________________________\n",
      "dropout_4 (Dropout)          (None, 1, 1, 256)         0         \n",
      "_________________________________________________________________\n",
      "Fifth_CV_Layer (Conv2D)      (None, 1, 1, 128)         32896     \n",
      "_________________________________________________________________\n",
      "batch_normalization_5 (Batch (None, 1, 1, 128)         512       \n",
      "_________________________________________________________________\n",
      "dropout_5 (Dropout)          (None, 1, 1, 128)         0         \n",
      "_________________________________________________________________\n",
      "flatten_1 (Flatten)          (None, 128)               0         \n",
      "_________________________________________________________________\n",
      "First_FC_Layer (Dense)       (None, 256)               33024     \n",
      "_________________________________________________________________\n",
      "Second_FC_Layer (Dense)      (None, 128)               32768     \n",
      "_________________________________________________________________\n",
      "dense_1 (Dense)              (None, 50)                6450      \n",
      "=================================================================\n",
      "Total params: 495,986\n",
      "Trainable params: 494,770\n",
      "Non-trainable params: 1,216\n",
      "_________________________________________________________________\n"
     ]
    }
   ],
   "source": [
    "CNNModel_Rev.compile(loss='binary_crossentropy',\n",
    "                     optimizer= 'Adam',\n",
    "                     metrics=['accuracy'])\n",
    "CNNModel_Rev.summary()"
   ]
  },
  {
   "cell_type": "markdown",
   "metadata": {},
   "source": [
    "A common practice is to set \"total number of batches\" value to (samples/batch_size) so that the model sees the training samples at most once per epoch."
   ]
  },
  {
   "cell_type": "code",
   "execution_count": 12,
   "metadata": {},
   "outputs": [
    {
     "name": "stdout",
     "output_type": "stream",
     "text": [
      "Epoch 1/30\n",
      "120/120 [==============================] - 327s 3s/step - loss: 0.0969 - acc: 0.9799 - val_loss: 0.0921 - val_acc: 0.9800\n",
      "Epoch 2/30\n",
      "120/120 [==============================] - 321s 3s/step - loss: 0.0907 - acc: 0.9799 - val_loss: 0.0881 - val_acc: 0.9800\n",
      "Epoch 3/30\n",
      "120/120 [==============================] - 317s 3s/step - loss: 0.0855 - acc: 0.9800 - val_loss: 0.0823 - val_acc: 0.9801\n",
      "Epoch 4/30\n",
      "120/120 [==============================] - 343s 3s/step - loss: 0.0818 - acc: 0.9801 - val_loss: 0.0780 - val_acc: 0.9801\n",
      "Epoch 5/30\n",
      "120/120 [==============================] - 334s 3s/step - loss: 0.0780 - acc: 0.9800 - val_loss: 0.0769 - val_acc: 0.9800\n",
      "Epoch 6/30\n",
      "120/120 [==============================] - 383s 3s/step - loss: 0.0757 - acc: 0.9800 - val_loss: 0.0708 - val_acc: 0.9802\n",
      "Epoch 7/30\n",
      "120/120 [==============================] - 333s 3s/step - loss: 0.0734 - acc: 0.9800 - val_loss: 0.0727 - val_acc: 0.9804\n",
      "Epoch 8/30\n",
      "120/120 [==============================] - 321s 3s/step - loss: 0.0711 - acc: 0.9801 - val_loss: 0.0643 - val_acc: 0.9805\n",
      "Epoch 9/30\n",
      "120/120 [==============================] - 320s 3s/step - loss: 0.0681 - acc: 0.9805 - val_loss: 0.0604 - val_acc: 0.9810\n",
      "Epoch 10/30\n",
      "120/120 [==============================] - 321s 3s/step - loss: 0.0663 - acc: 0.9804 - val_loss: 0.0639 - val_acc: 0.9809\n",
      "Epoch 11/30\n",
      "120/120 [==============================] - 321s 3s/step - loss: 0.0648 - acc: 0.9806 - val_loss: 0.0543 - val_acc: 0.9823\n",
      "Epoch 12/30\n",
      "120/120 [==============================] - 321s 3s/step - loss: 0.0637 - acc: 0.9807 - val_loss: 0.0610 - val_acc: 0.9816\n",
      "Epoch 13/30\n",
      "120/120 [==============================] - 326s 3s/step - loss: 0.0616 - acc: 0.9812 - val_loss: 0.0553 - val_acc: 0.9821\n",
      "Epoch 14/30\n",
      "120/120 [==============================] - 323s 3s/step - loss: 0.0606 - acc: 0.9811 - val_loss: 0.0520 - val_acc: 0.9829\n",
      "Epoch 15/30\n",
      "120/120 [==============================] - 323s 3s/step - loss: 0.0601 - acc: 0.9811 - val_loss: 0.0527 - val_acc: 0.9826\n",
      "Epoch 16/30\n",
      "120/120 [==============================] - 323s 3s/step - loss: 0.0591 - acc: 0.9814 - val_loss: 0.0484 - val_acc: 0.9836\n",
      "Epoch 17/30\n",
      "120/120 [==============================] - 323s 3s/step - loss: 0.0590 - acc: 0.9813 - val_loss: 0.0573 - val_acc: 0.9824\n",
      "Epoch 18/30\n",
      "120/120 [==============================] - 303s 3s/step - loss: 0.0576 - acc: 0.9816 - val_loss: 0.0494 - val_acc: 0.9833\n",
      "Epoch 19/30\n",
      "120/120 [==============================] - 261s 2s/step - loss: 0.0573 - acc: 0.9816 - val_loss: 0.0465 - val_acc: 0.9843\n",
      "Epoch 20/30\n",
      "120/120 [==============================] - 275s 2s/step - loss: 0.0555 - acc: 0.9819 - val_loss: 0.0486 - val_acc: 0.9837\n",
      "Epoch 21/30\n",
      "120/120 [==============================] - 293s 2s/step - loss: 0.0555 - acc: 0.9822 - val_loss: 0.0454 - val_acc: 0.9841\n",
      "Epoch 22/30\n",
      "120/120 [==============================] - 291s 2s/step - loss: 0.0535 - acc: 0.9825 - val_loss: 0.0511 - val_acc: 0.9833\n",
      "Epoch 23/30\n",
      "120/120 [==============================] - 291s 2s/step - loss: 0.0541 - acc: 0.9823 - val_loss: 0.0438 - val_acc: 0.9849\n",
      "Epoch 24/30\n",
      "120/120 [==============================] - 282s 2s/step - loss: 0.0531 - acc: 0.9824 - val_loss: 0.0423 - val_acc: 0.9854\n",
      "Epoch 25/30\n",
      "120/120 [==============================] - 283s 2s/step - loss: 0.0532 - acc: 0.9824 - val_loss: 0.0432 - val_acc: 0.9850\n",
      "Epoch 26/30\n",
      "120/120 [==============================] - 280s 2s/step - loss: 0.0527 - acc: 0.9827 - val_loss: 0.0428 - val_acc: 0.9851\n",
      "Epoch 27/30\n",
      "120/120 [==============================] - 284s 2s/step - loss: 0.0523 - acc: 0.9825 - val_loss: 0.0409 - val_acc: 0.9855\n",
      "Epoch 28/30\n",
      "120/120 [==============================] - 281s 2s/step - loss: 0.0510 - acc: 0.9830 - val_loss: 0.0402 - val_acc: 0.9859\n",
      "Epoch 29/30\n",
      "120/120 [==============================] - 281s 2s/step - loss: 0.0513 - acc: 0.9829 - val_loss: 0.0400 - val_acc: 0.9859\n",
      "Epoch 30/30\n",
      "120/120 [==============================] - 8175s 68s/step - loss: 0.0510 - acc: 0.9830 - val_loss: 0.0411 - val_acc: 0.9857\n"
     ]
    }
   ],
   "source": [
    "history_rev = CNNModel_Rev.fit_generator(generator=train_generator_data_rev, \n",
    "                        steps_per_epoch=120,\n",
    "                        epochs=30,                                                \n",
    "                        verbose=1,\n",
    "                        validation_steps=65,  \n",
    "                        validation_data=validation_generator_data_rev,\n",
    "                        callbacks=[reduce_lr_rev])"
   ]
  },
  {
   "cell_type": "markdown",
   "metadata": {},
   "source": [
    "Training and validation accuracy seems to be increasing with number of epochs"
   ]
  },
  {
   "cell_type": "code",
   "execution_count": 13,
   "metadata": {},
   "outputs": [
    {
     "data": {
      "text/plain": [
       "<Figure size 432x288 with 0 Axes>"
      ]
     },
     "execution_count": 13,
     "metadata": {},
     "output_type": "execute_result"
    },
    {
     "data": {
      "image/png": "[encoded data removed]",
      "text/plain": [
       "<Figure size 432x288 with 1 Axes>"
      ]
     },
     "metadata": {},
     "output_type": "display_data"
    },
    {
     "data": {
      "text/plain": [
       "<Figure size 432x288 with 0 Axes>"
      ]
     },
     "metadata": {},
     "output_type": "display_data"
    }
   ],
   "source": [
    "vggacc = history_rev.history['acc']\n",
    "vggval_acc = history_rev.history['val_acc']\n",
    "vggloss = history_rev.history['loss']\n",
    "vggval_loss = history_rev.history['val_loss']\n",
    "vggepochs = range(1, len(vggacc) + 1)\n",
    "plt.plot(vggepochs, vggacc, 'bo', label='Training acc')\n",
    "plt.plot(vggepochs, vggval_acc, 'b', label='Validation acc')\n",
    "plt.title('Training and validation accuracy -VGG')\n",
    "plt.legend()\n",
    "plt.figure()"
   ]
  },
  {
   "cell_type": "markdown",
   "metadata": {},
   "source": [
    "Training and validation loss seems to be coming down with number of epochs and this does not indicate any overfitting of our model."
   ]
  },
  {
   "cell_type": "code",
   "execution_count": 14,
   "metadata": {},
   "outputs": [
    {
     "data": {
      "image/png": "[encoded data removed]",
      "text/plain": [
       "<Figure size 432x288 with 1 Axes>"
      ]
     },
     "metadata": {},
     "output_type": "display_data"
    }
   ],
   "source": [
    "plt.plot(vggepochs, vggloss, 'bo', label='Training loss')\n",
    "plt.plot(vggepochs, vggval_loss, 'b', label='Validation loss')\n",
    "plt.title('Training and validation loss --VGG')\n",
    "plt.legend()\n",
    "plt.show()"
   ]
  },
  {
   "cell_type": "markdown",
   "metadata": {},
   "source": [
    "Prediction accuracy seems to be quite good for us"
   ]
  },
  {
   "cell_type": "code",
   "execution_count": 15,
   "metadata": {},
   "outputs": [
    {
     "name": "stdout",
     "output_type": "stream",
     "text": [
      "No of Layers in Models: 23\n",
      "47/47 [==============================] - 44s 946ms/step\n",
      "Test loss: 0.042678416550159456\n",
      "Test accuracy: 0.9850666824976603\n"
     ]
    }
   ],
   "source": [
    "print(\"No of Layers in Models:\",len(CNNModel_Rev.layers))  # \"2\")\n",
    "score = CNNModel_Rev.evaluate_generator(test_generator_data_rev,verbose=1)\n",
    "print('Test loss:', score[0])\n",
    "print('Test accuracy:', score[1])\n",
    "# manual test\n"
   ]
  },
  {
   "cell_type": "code",
   "execution_count": 16,
   "metadata": {},
   "outputs": [
    {
     "name": "stdout",
     "output_type": "stream",
     "text": [
      "47/47 [==============================] - 38s 812ms/step\n"
     ]
    }
   ],
   "source": [
    "Predict = CNNModel_Rev.predict_generator(test_generator_data_rev,verbose=1)\n"
   ]
  },
  {
   "cell_type": "code",
   "execution_count": 17,
   "metadata": {},
   "outputs": [
    {
     "name": "stdout",
     "output_type": "stream",
     "text": [
      "preds_test (3000, 50) (3000, 50) [[3.73878152e-07 2.87373587e-06 7.57149130e-04 ... 7.85912052e-02\n",
      "  1.26664410e-03 2.53594108e-03]\n",
      " [5.72046816e-01 3.97168934e-01 2.49273289e-04 ... 4.36795835e-06\n",
      "  3.52127728e-07 2.34658273e-05]\n",
      " [1.05198051e-05 2.93345533e-06 5.88511721e-05 ... 9.82773211e-03\n",
      "  1.41881988e-04 4.40939330e-04]\n",
      " ...\n",
      " [3.59498159e-07 5.38365725e-08 2.63439488e-05 ... 1.40066794e-03\n",
      "  5.80257074e-06 8.75017326e-03]\n",
      " [4.92695690e-05 1.03366665e-05 6.32277952e-05 ... 1.50008636e-04\n",
      "  2.94219615e-04 1.54912977e-05]\n",
      " [9.90766758e-09 6.14817452e-07 2.88321753e-04 ... 5.36838248e-02\n",
      "  1.83239914e-02 5.87132876e-04]]\n"
     ]
    }
   ],
   "source": [
    "  print('preds_test', Predict.shape, Predict.shape, Predict)"
   ]
  },
  {
   "cell_type": "markdown",
   "metadata": {},
   "source": [
    "# Inception Network"
   ]
  },
  {
   "cell_type": "markdown",
   "metadata": {},
   "source": [
    "It is always a complicated task to define and finalise filter size. Filter size can be 3*3, 5*5, 7* or 1*1. So why not use all of them and let the model decide? We do this by doing each convolution in parallel and concatenating the resulting feature maps before going to the next layer. Computation wise this is quite costly and no of parameters become quite high.\n",
    "\n",
    "So Inception module takes all these filter as input and stack them. It is then responsibility of the network to deicide best filter and use the same. We only need to keep output size same so that we can concat each of theselayers to form inception module. \n",
    "<img src=\"https://hackathonprojects.files.wordpress.com/2016/09/udacity1.png\">\n",
    "\n",
    "We learn 64 1x1 filters on the input_img tensor and then we learn 64 3x3 filters on the tower_1 tensor. Similarly, we make tower_2, tower_3 tensors. We provide input_img tensor to tower_2 and tower_3 as input so all the 3x3, 5x5 filters and the max pooling layers are performed on the same input. Here padding kept same to ensure output size of CONV2D operation is same as input. We then can concat to form the inception module."
   ]
  },
  {
   "cell_type": "markdown",
   "metadata": {},
   "source": [
    "<img src=\"https://hackathonprojects.files.wordpress.com/2016/09/inception_implement.png\">\n",
    "The paper suggests first doing a 1×1 convolution  reducing the dimensionality of its feature map, passing the resulting feature map through a relu, and then doing the larger convolution (in this case, 5×5 or 3×3). The 1×1 convolution is key because it will be used to reduce the dimensionality of its feature map"
   ]
  },
  {
   "cell_type": "code",
   "execution_count": 10,
   "metadata": {},
   "outputs": [],
   "source": [
    "#convolution 1st layer\n",
    "droprate=0.25\n",
    "droprateRev=0.55\n",
    "\n",
    "input_img = Input(shape = (image_width,image_height, 3))\n",
    "\n",
    "CONVtower_Input = Conv2D(64, (3,3), padding='same', activation='relu')(input_img)\n",
    "CONVtower_Input_batch = BatchNormalization()(CONVtower_Input)\n",
    "#CONVtower_Input_MaxPool = MaxPooling2D()(CONVtower_Input_batch)\n",
    "#CONVtower_Input_Drop = Dropout(droprate)(CONVtower_Input_MaxPool)\n",
    "\n",
    "CONVtower_Input_2 = Conv2D(128, (3,3), padding='same', activation='relu')(CONVtower_Input_batch)\n",
    "CONVtower_Input_batch_2 = BatchNormalization()(CONVtower_Input_2)\n",
    "CONVtower_Input_MaxPool_2 = MaxPooling2D()(CONVtower_Input_batch_2)\n",
    "CONVtower_Input_Drop_2 = Dropout(droprate)(CONVtower_Input_MaxPool_2)\n",
    "\n",
    "CONVtower_1 = Conv2D(32, (1,1), padding='same', activation='relu')(CONVtower_Input_Drop_2)\n",
    "CONVtower_1 = Conv2D(32, (3,3), padding='same', activation='relu')(CONVtower_1)\n",
    "\n",
    "CONVtower_2 = Conv2D(32, (1,1), padding='same', activation='relu')(CONVtower_Input_Drop_2)\n",
    "CONVtower_2 = Conv2D(32, (5,5), padding='same', activation='relu')(CONVtower_2)\n",
    "\n",
    "CONVtower_3 = MaxPooling2D((3,3), strides=(1,1), padding='same')(CONVtower_Input_Drop_2)\n",
    "CONVtower_3 = Conv2D(32, (1,1), padding='same', activation='relu')(CONVtower_3)"
   ]
  },
  {
   "cell_type": "raw",
   "metadata": {},
   "source": [
    "Here we are concatinating layers of three filters and creating inecption network. We then pass through this inception network with Batch Normalisation and followed by max pooling, drop out."
   ]
  },
  {
   "cell_type": "code",
   "execution_count": 11,
   "metadata": {},
   "outputs": [],
   "source": [
    "CONVoutput = keras.layers.concatenate([CONVtower_1, CONVtower_2, CONVtower_3], axis = 3)\n",
    "\n",
    "CONVtower_Input_batch_1 = BatchNormalization()(CONVoutput)\n",
    "CONVtower_Input_MaxPool_1 = MaxPooling2D(3,3)(CONVtower_Input_batch_1)\n",
    "CONVtower_Input_Drop_1 = Dropout(droprateRev)(CONVtower_Input_MaxPool_1)"
   ]
  },
  {
   "cell_type": "markdown",
   "metadata": {},
   "source": [
    "We then have flatten the output to a one dimensional collection of neurons which is then will be used to create fully connected neural network"
   ]
  },
  {
   "cell_type": "code",
   "execution_count": 12,
   "metadata": {},
   "outputs": [],
   "source": [
    "Flatoutput = Flatten()(CONVtower_Input_Drop_1)\n",
    "#Denseout_1    = Dense(200, activation='relu')(Flatoutput)\n",
    "#Denseout_1_Drop_1 = Dropout(droprateRev)(Flatoutput)\n",
    "Denseout_2    = Dense(100, activation='relu',kernel_initializer='glorot_uniform')(Flatoutput)\n",
    "Denseout_2_batch_1 = BatchNormalization()(Denseout_2)\n",
    "\n",
    "Denseout_3    = Dense(64, activation='relu',kernel_initializer='glorot_uniform')(Denseout_2)\n",
    "Denseout_4    = Dense(50, activation='softmax',kernel_initializer='uniform')(Denseout_3)"
   ]
  },
  {
   "cell_type": "code",
   "execution_count": 13,
   "metadata": {},
   "outputs": [
    {
     "name": "stdout",
     "output_type": "stream",
     "text": [
      "__________________________________________________________________________________________________\n",
      "Layer (type)                    Output Shape         Param #     Connected to                     \n",
      "==================================================================================================\n",
      "input_1 (InputLayer)            (None, 50, 50, 3)    0                                            \n",
      "__________________________________________________________________________________________________\n",
      "conv2d_1 (Conv2D)               (None, 50, 50, 64)   1792        input_1[0][0]                    \n",
      "__________________________________________________________________________________________________\n",
      "batch_normalization_1 (BatchNor (None, 50, 50, 64)   256         conv2d_1[0][0]                   \n",
      "__________________________________________________________________________________________________\n",
      "conv2d_2 (Conv2D)               (None, 50, 50, 128)  73856       batch_normalization_1[0][0]      \n",
      "__________________________________________________________________________________________________\n",
      "batch_normalization_2 (BatchNor (None, 50, 50, 128)  512         conv2d_2[0][0]                   \n",
      "__________________________________________________________________________________________________\n",
      "max_pooling2d_1 (MaxPooling2D)  (None, 25, 25, 128)  0           batch_normalization_2[0][0]      \n",
      "__________________________________________________________________________________________________\n",
      "dropout_1 (Dropout)             (None, 25, 25, 128)  0           max_pooling2d_1[0][0]            \n",
      "__________________________________________________________________________________________________\n",
      "conv2d_3 (Conv2D)               (None, 25, 25, 32)   4128        dropout_1[0][0]                  \n",
      "__________________________________________________________________________________________________\n",
      "conv2d_5 (Conv2D)               (None, 25, 25, 32)   4128        dropout_1[0][0]                  \n",
      "__________________________________________________________________________________________________\n",
      "max_pooling2d_2 (MaxPooling2D)  (None, 25, 25, 128)  0           dropout_1[0][0]                  \n",
      "__________________________________________________________________________________________________\n",
      "conv2d_4 (Conv2D)               (None, 25, 25, 32)   9248        conv2d_3[0][0]                   \n",
      "__________________________________________________________________________________________________\n",
      "conv2d_6 (Conv2D)               (None, 25, 25, 32)   25632       conv2d_5[0][0]                   \n",
      "__________________________________________________________________________________________________\n",
      "conv2d_7 (Conv2D)               (None, 25, 25, 32)   4128        max_pooling2d_2[0][0]            \n",
      "__________________________________________________________________________________________________\n",
      "concatenate_1 (Concatenate)     (None, 25, 25, 96)   0           conv2d_4[0][0]                   \n",
      "                                                                 conv2d_6[0][0]                   \n",
      "                                                                 conv2d_7[0][0]                   \n",
      "__________________________________________________________________________________________________\n",
      "batch_normalization_3 (BatchNor (None, 25, 25, 96)   384         concatenate_1[0][0]              \n",
      "__________________________________________________________________________________________________\n",
      "max_pooling2d_3 (MaxPooling2D)  (None, 8, 8, 96)     0           batch_normalization_3[0][0]      \n",
      "__________________________________________________________________________________________________\n",
      "dropout_2 (Dropout)             (None, 8, 8, 96)     0           max_pooling2d_3[0][0]            \n",
      "__________________________________________________________________________________________________\n",
      "flatten_1 (Flatten)             (None, 6144)         0           dropout_2[0][0]                  \n",
      "__________________________________________________________________________________________________\n",
      "dense_1 (Dense)                 (None, 100)          614500      flatten_1[0][0]                  \n",
      "__________________________________________________________________________________________________\n",
      "dense_2 (Dense)                 (None, 64)           6464        dense_1[0][0]                    \n",
      "__________________________________________________________________________________________________\n",
      "dense_3 (Dense)                 (None, 50)           3250        dense_2[0][0]                    \n",
      "==================================================================================================\n",
      "Total params: 748,278\n",
      "Trainable params: 747,702\n",
      "Non-trainable params: 576\n",
      "__________________________________________________________________________________________________\n"
     ]
    }
   ],
   "source": [
    "Incepmodel = Model(inputs = input_img, outputs = Denseout_4)\n",
    "\n",
    "Incepmodel.compile(loss='categorical_crossentropy',\n",
    "                     optimizer= 'adam',\n",
    "                     metrics=['accuracy'])\n",
    "Incepmodel.summary()"
   ]
  },
  {
   "cell_type": "code",
   "execution_count": 14,
   "metadata": {},
   "outputs": [
    {
     "name": "stdout",
     "output_type": "stream",
     "text": [
      "Epoch 1/30\n",
      "120/120 [==============================] - 1492s 12s/step - loss: 3.3077 - acc: 0.1402 - val_loss: 2.8113 - val_acc: 0.2361\n",
      "Epoch 2/30\n",
      "120/120 [==============================] - 1338s 11s/step - loss: 2.2444 - acc: 0.3543 - val_loss: 2.0439 - val_acc: 0.4135\n",
      "Epoch 3/30\n",
      "120/120 [==============================] - 1308s 11s/step - loss: 1.8625 - acc: 0.4502 - val_loss: 1.9565 - val_acc: 0.4346\n",
      "Epoch 4/30\n",
      "120/120 [==============================] - 1345s 11s/step - loss: 1.6761 - acc: 0.5099 - val_loss: 1.9826 - val_acc: 0.4269\n",
      "Epoch 5/30\n",
      "120/120 [==============================] - 1372s 11s/step - loss: 1.5343 - acc: 0.5371 - val_loss: 1.5095 - val_acc: 0.5647\n",
      "Epoch 6/30\n",
      "120/120 [==============================] - 1303s 11s/step - loss: 1.4383 - acc: 0.5722 - val_loss: 2.2170 - val_acc: 0.3897\n",
      "Epoch 7/30\n",
      "120/120 [==============================] - 1547s 13s/step - loss: 1.3482 - acc: 0.5955 - val_loss: 1.5659 - val_acc: 0.5476\n",
      "Epoch 8/30\n",
      "120/120 [==============================] - 1353s 11s/step - loss: 1.2523 - acc: 0.6230 - val_loss: 1.4930 - val_acc: 0.5663\n",
      "Epoch 9/30\n",
      "120/120 [==============================] - 1354s 11s/step - loss: 1.1982 - acc: 0.6383 - val_loss: 1.2150 - val_acc: 0.6296\n",
      "Epoch 10/30\n",
      "120/120 [==============================] - 1344s 11s/step - loss: 1.1154 - acc: 0.6578 - val_loss: 1.1585 - val_acc: 0.6517\n",
      "Epoch 11/30\n",
      "120/120 [==============================] - 1295s 11s/step - loss: 1.0896 - acc: 0.6708 - val_loss: 1.0758 - val_acc: 0.6822\n",
      "Epoch 12/30\n",
      "120/120 [==============================] - 1300s 11s/step - loss: 1.0365 - acc: 0.6839 - val_loss: 1.1157 - val_acc: 0.6700\n",
      "Epoch 13/30\n",
      "120/120 [==============================] - 1296s 11s/step - loss: 0.9856 - acc: 0.6927 - val_loss: 1.1647 - val_acc: 0.6596\n",
      "Epoch 14/30\n",
      "120/120 [==============================] - 1297s 11s/step - loss: 0.9632 - acc: 0.7075 - val_loss: 1.2436 - val_acc: 0.6303\n",
      "Epoch 15/30\n",
      "120/120 [==============================] - 1297s 11s/step - loss: 0.9626 - acc: 0.7108 - val_loss: 0.9715 - val_acc: 0.7024\n",
      "Epoch 16/30\n",
      "120/120 [==============================] - 1304s 11s/step - loss: 0.8767 - acc: 0.7363 - val_loss: 0.9872 - val_acc: 0.7022\n",
      "Epoch 17/30\n",
      "120/120 [==============================] - 1303s 11s/step - loss: 0.8669 - acc: 0.7330 - val_loss: 0.9919 - val_acc: 0.6933\n",
      "Epoch 18/30\n",
      "120/120 [==============================] - 1300s 11s/step - loss: 0.8428 - acc: 0.7406 - val_loss: 1.0474 - val_acc: 0.6916\n",
      "Epoch 19/30\n",
      "120/120 [==============================] - 1295s 11s/step - loss: 0.8337 - acc: 0.7419 - val_loss: 0.8688 - val_acc: 0.7389\n",
      "Epoch 20/30\n",
      "120/120 [==============================] - 1301s 11s/step - loss: 0.7924 - acc: 0.7555 - val_loss: 0.9057 - val_acc: 0.7209\n",
      "Epoch 21/30\n",
      "120/120 [==============================] - 1302s 11s/step - loss: 0.8070 - acc: 0.7555 - val_loss: 0.7968 - val_acc: 0.7620\n",
      "Epoch 22/30\n",
      "120/120 [==============================] - 1299s 11s/step - loss: 0.7711 - acc: 0.7631 - val_loss: 0.7920 - val_acc: 0.7591\n",
      "Epoch 23/30\n",
      "120/120 [==============================] - 1325s 11s/step - loss: 0.7594 - acc: 0.7682 - val_loss: 0.7683 - val_acc: 0.7649\n",
      "Epoch 24/30\n",
      "120/120 [==============================] - 1302s 11s/step - loss: 0.7280 - acc: 0.7695 - val_loss: 0.8168 - val_acc: 0.7584\n",
      "Epoch 25/30\n",
      "120/120 [==============================] - 1315s 11s/step - loss: 0.7215 - acc: 0.7776 - val_loss: 1.0296 - val_acc: 0.6983\n",
      "Epoch 26/30\n",
      "120/120 [==============================] - 1302s 11s/step - loss: 0.7186 - acc: 0.7760 - val_loss: 0.8329 - val_acc: 0.7452\n",
      "Epoch 27/30\n",
      "120/120 [==============================] - 1310s 11s/step - loss: 0.7016 - acc: 0.7800 - val_loss: 0.9838 - val_acc: 0.7113\n",
      "Epoch 28/30\n",
      "120/120 [==============================] - 1311s 11s/step - loss: 0.6820 - acc: 0.7876 - val_loss: 0.8106 - val_acc: 0.7550\n",
      "Epoch 29/30\n",
      "120/120 [==============================] - 1304s 11s/step - loss: 0.6578 - acc: 0.7990 - val_loss: 0.7628 - val_acc: 0.7707\n",
      "Epoch 30/30\n",
      "120/120 [==============================] - 1300s 11s/step - loss: 0.6277 - acc: 0.8078 - val_loss: 0.7080 - val_acc: 0.7873\n"
     ]
    }
   ],
   "source": [
    "Inception_history_rev = Incepmodel.fit_generator(generator=train_generator_data_rev, \n",
    "                        steps_per_epoch=120,\n",
    "                        epochs=30,                                                \n",
    "                        verbose=1,\n",
    "                        validation_steps=65,  \n",
    "                        validation_data=validation_generator_data_rev,\n",
    "                        callbacks=[reduce_lr_rev])"
   ]
  },
  {
   "cell_type": "code",
   "execution_count": 10,
   "metadata": {},
   "outputs": [],
   "source": [
    "#reduce_lr_rev = ReduceLROnPlateau(monitor='val_loss', factor=0.002,\n",
    " #                             patience=2, min_lr=0.005)\n",
    "\n",
    "reduce_lr = ReduceLROnPlateau(monitor='val_loss', factor=0.1,min_delta=0.0001,mode='auto',verbose=1,\n",
    "                              patience=3, min_lr=0.000001)"
   ]
  },
  {
   "cell_type": "markdown",
   "metadata": {},
   "source": [
    "Here I have tried to make one FC layer untrainable and change other layers weight to be changed depending on loss."
   ]
  },
  {
   "cell_type": "code",
   "execution_count": 16,
   "metadata": {},
   "outputs": [
    {
     "name": "stdout",
     "output_type": "stream",
     "text": [
      "Layer Name: input_1\r",
      "input_1\n",
      "Layer Name: conv2d_1\r",
      "conv2d_1\n",
      "Layer Name: batch_normalization_1\r",
      "batch_normalization_1\n",
      "Layer Name: conv2d_2\r",
      "conv2d_2\n",
      "Layer Name: batch_normalization_2\r",
      "batch_normalization_2\n",
      "Layer Name: max_pooling2d_1\r",
      "max_pooling2d_1\n",
      "Layer Name: dropout_1\r",
      "dropout_1\n",
      "Layer Name: conv2d_3\r",
      "conv2d_3\n",
      "Layer Name: conv2d_5\r",
      "conv2d_5\n",
      "Layer Name: max_pooling2d_2\r",
      "max_pooling2d_2\n",
      "Layer Name: conv2d_4\r",
      "conv2d_4\n",
      "Layer Name: conv2d_6\r",
      "conv2d_6\n",
      "Layer Name: conv2d_7\r",
      "conv2d_7\n",
      "Layer Name: concatenate_1\r",
      "concatenate_1\n",
      "Layer Name: batch_normalization_3\r",
      "batch_normalization_3\n",
      "Layer Name: max_pooling2d_3\r",
      "max_pooling2d_3\n",
      "Layer Name: dropout_2\r",
      "dropout_2\n",
      "Layer Name: flatten_1\r",
      "flatten_1\n",
      "Layer Name: dense_1\r",
      "dense_1\n",
      "Layer Name: dense_2\r",
      "dense_2\n",
      "Layer Name: dense_3\r",
      "dense_3\n",
      "__________________________________________________________________________________________________\n",
      "Layer (type)                    Output Shape         Param #     Connected to                     \n",
      "==================================================================================================\n",
      "input_1 (InputLayer)            (None, 50, 50, 3)    0                                            \n",
      "__________________________________________________________________________________________________\n",
      "conv2d_1 (Conv2D)               (None, 50, 50, 64)   1792        input_1[0][0]                    \n",
      "__________________________________________________________________________________________________\n",
      "batch_normalization_1 (BatchNor (None, 50, 50, 64)   256         conv2d_1[0][0]                   \n",
      "__________________________________________________________________________________________________\n",
      "conv2d_2 (Conv2D)               (None, 50, 50, 128)  73856       batch_normalization_1[0][0]      \n",
      "__________________________________________________________________________________________________\n",
      "batch_normalization_2 (BatchNor (None, 50, 50, 128)  512         conv2d_2[0][0]                   \n",
      "__________________________________________________________________________________________________\n",
      "max_pooling2d_1 (MaxPooling2D)  (None, 25, 25, 128)  0           batch_normalization_2[0][0]      \n",
      "__________________________________________________________________________________________________\n",
      "dropout_1 (Dropout)             (None, 25, 25, 128)  0           max_pooling2d_1[0][0]            \n",
      "__________________________________________________________________________________________________\n",
      "conv2d_3 (Conv2D)               (None, 25, 25, 32)   4128        dropout_1[0][0]                  \n",
      "__________________________________________________________________________________________________\n",
      "conv2d_5 (Conv2D)               (None, 25, 25, 32)   4128        dropout_1[0][0]                  \n",
      "__________________________________________________________________________________________________\n",
      "max_pooling2d_2 (MaxPooling2D)  (None, 25, 25, 128)  0           dropout_1[0][0]                  \n",
      "__________________________________________________________________________________________________\n",
      "conv2d_4 (Conv2D)               (None, 25, 25, 32)   9248        conv2d_3[0][0]                   \n",
      "__________________________________________________________________________________________________\n",
      "conv2d_6 (Conv2D)               (None, 25, 25, 32)   25632       conv2d_5[0][0]                   \n",
      "__________________________________________________________________________________________________\n",
      "conv2d_7 (Conv2D)               (None, 25, 25, 32)   4128        max_pooling2d_2[0][0]            \n",
      "__________________________________________________________________________________________________\n",
      "concatenate_1 (Concatenate)     (None, 25, 25, 96)   0           conv2d_4[0][0]                   \n",
      "                                                                 conv2d_6[0][0]                   \n",
      "                                                                 conv2d_7[0][0]                   \n",
      "__________________________________________________________________________________________________\n",
      "batch_normalization_3 (BatchNor (None, 25, 25, 96)   384         concatenate_1[0][0]              \n",
      "__________________________________________________________________________________________________\n",
      "max_pooling2d_3 (MaxPooling2D)  (None, 8, 8, 96)     0           batch_normalization_3[0][0]      \n",
      "__________________________________________________________________________________________________\n",
      "dropout_2 (Dropout)             (None, 8, 8, 96)     0           max_pooling2d_3[0][0]            \n",
      "__________________________________________________________________________________________________\n",
      "flatten_1 (Flatten)             (None, 6144)         0           dropout_2[0][0]                  \n",
      "__________________________________________________________________________________________________\n",
      "dense_1 (Dense)                 (None, 100)          614500      flatten_1[0][0]                  \n",
      "__________________________________________________________________________________________________\n",
      "dense_2 (Dense)                 (None, 64)           6464        dense_1[0][0]                    \n",
      "__________________________________________________________________________________________________\n",
      "dense_3 (Dense)                 (None, 50)           3250        dense_2[0][0]                    \n",
      "==================================================================================================\n",
      "Total params: 748,278\n",
      "Trainable params: 747,702\n",
      "Non-trainable params: 576\n",
      "__________________________________________________________________________________________________\n"
     ]
    }
   ],
   "source": [
    "Incepmodel.trainable = True\n",
    "\n",
    "for layers in Incepmodel.layers:\n",
    "    print(\"Layer Name:\",layers.name, end='\\r')\n",
    "    print(layers.name)\n",
    "    if any( [layers.name == 'dense_4', layers.name == 'conv2d_8', layers.name == 'conv2d_9'] ):\n",
    "        layers.trainable = False\n",
    "    else:\n",
    "        layers.trainable = True \n",
    "        \n",
    "Incepmodel.summary()"
   ]
  },
  {
   "cell_type": "code",
   "execution_count": 17,
   "metadata": {},
   "outputs": [
    {
     "name": "stdout",
     "output_type": "stream",
     "text": [
      "__________________________________________________________________________________________________\n",
      "Layer (type)                    Output Shape         Param #     Connected to                     \n",
      "==================================================================================================\n",
      "input_1 (InputLayer)            (None, 50, 50, 3)    0                                            \n",
      "__________________________________________________________________________________________________\n",
      "conv2d_1 (Conv2D)               (None, 50, 50, 64)   1792        input_1[0][0]                    \n",
      "__________________________________________________________________________________________________\n",
      "batch_normalization_1 (BatchNor (None, 50, 50, 64)   256         conv2d_1[0][0]                   \n",
      "__________________________________________________________________________________________________\n",
      "conv2d_2 (Conv2D)               (None, 50, 50, 128)  73856       batch_normalization_1[0][0]      \n",
      "__________________________________________________________________________________________________\n",
      "batch_normalization_2 (BatchNor (None, 50, 50, 128)  512         conv2d_2[0][0]                   \n",
      "__________________________________________________________________________________________________\n",
      "max_pooling2d_1 (MaxPooling2D)  (None, 25, 25, 128)  0           batch_normalization_2[0][0]      \n",
      "__________________________________________________________________________________________________\n",
      "dropout_1 (Dropout)             (None, 25, 25, 128)  0           max_pooling2d_1[0][0]            \n",
      "__________________________________________________________________________________________________\n",
      "conv2d_3 (Conv2D)               (None, 25, 25, 32)   4128        dropout_1[0][0]                  \n",
      "__________________________________________________________________________________________________\n",
      "conv2d_5 (Conv2D)               (None, 25, 25, 32)   4128        dropout_1[0][0]                  \n",
      "__________________________________________________________________________________________________\n",
      "max_pooling2d_2 (MaxPooling2D)  (None, 25, 25, 128)  0           dropout_1[0][0]                  \n",
      "__________________________________________________________________________________________________\n",
      "conv2d_4 (Conv2D)               (None, 25, 25, 32)   9248        conv2d_3[0][0]                   \n",
      "__________________________________________________________________________________________________\n",
      "conv2d_6 (Conv2D)               (None, 25, 25, 32)   25632       conv2d_5[0][0]                   \n",
      "__________________________________________________________________________________________________\n",
      "conv2d_7 (Conv2D)               (None, 25, 25, 32)   4128        max_pooling2d_2[0][0]            \n",
      "__________________________________________________________________________________________________\n",
      "concatenate_1 (Concatenate)     (None, 25, 25, 96)   0           conv2d_4[0][0]                   \n",
      "                                                                 conv2d_6[0][0]                   \n",
      "                                                                 conv2d_7[0][0]                   \n",
      "__________________________________________________________________________________________________\n",
      "batch_normalization_3 (BatchNor (None, 25, 25, 96)   384         concatenate_1[0][0]              \n",
      "__________________________________________________________________________________________________\n",
      "max_pooling2d_3 (MaxPooling2D)  (None, 8, 8, 96)     0           batch_normalization_3[0][0]      \n",
      "__________________________________________________________________________________________________\n",
      "dropout_2 (Dropout)             (None, 8, 8, 96)     0           max_pooling2d_3[0][0]            \n",
      "__________________________________________________________________________________________________\n",
      "flatten_1 (Flatten)             (None, 6144)         0           dropout_2[0][0]                  \n",
      "__________________________________________________________________________________________________\n",
      "dense_1 (Dense)                 (None, 100)          614500      flatten_1[0][0]                  \n",
      "__________________________________________________________________________________________________\n",
      "dense_2 (Dense)                 (None, 64)           6464        dense_1[0][0]                    \n",
      "__________________________________________________________________________________________________\n",
      "dense_3 (Dense)                 (None, 50)           3250        dense_2[0][0]                    \n",
      "==================================================================================================\n",
      "Total params: 748,278\n",
      "Trainable params: 747,702\n",
      "Non-trainable params: 576\n",
      "__________________________________________________________________________________________________\n",
      "No of Parameters after layers freezing: 26\n"
     ]
    }
   ],
   "source": [
    "Incepmodel.compile(loss='categorical_crossentropy',\n",
    "                     optimizer= 'adam',\n",
    "                     metrics=['accuracy'])\n",
    "Incepmodel.summary()\n",
    "print(\"No of Parameters after layers freezing:\",len(Incepmodel.trainable_weights))"
   ]
  },
  {
   "cell_type": "code",
   "execution_count": 18,
   "metadata": {},
   "outputs": [
    {
     "name": "stdout",
     "output_type": "stream",
     "text": [
      "Epoch 31/50\n",
      "120/120 [==============================] - 1675s 14s/step - loss: 0.6817 - acc: 0.7849 - val_loss: 0.7234 - val_acc: 0.7815\n",
      "Epoch 32/50\n",
      "120/120 [==============================] - 11960s 100s/step - loss: 0.6621 - acc: 0.7936 - val_loss: 0.7264 - val_acc: 0.7837\n",
      "Epoch 33/50\n",
      "120/120 [==============================] - 1318s 11s/step - loss: 0.6513 - acc: 0.7961 - val_loss: 0.7005 - val_acc: 0.7851\n",
      "Epoch 34/50\n",
      "120/120 [==============================] - 1282s 11s/step - loss: 0.6418 - acc: 0.8027 - val_loss: 0.6643 - val_acc: 0.7940\n",
      "Epoch 35/50\n",
      "120/120 [==============================] - 1579s 13s/step - loss: 0.6220 - acc: 0.8062 - val_loss: 0.9131 - val_acc: 0.7365\n",
      "Epoch 36/50\n",
      "120/120 [==============================] - 1574s 13s/step - loss: 0.6273 - acc: 0.8023 - val_loss: 0.7151 - val_acc: 0.7844\n",
      "Epoch 37/50\n",
      "120/120 [==============================] - 1504s 13s/step - loss: 0.5997 - acc: 0.8188 - val_loss: 0.9823 - val_acc: 0.7113\n",
      "\n",
      "Epoch 00037: ReduceLROnPlateau reducing learning rate to 0.00010000000474974513.\n",
      "Epoch 38/50\n",
      "120/120 [==============================] - 1515s 13s/step - loss: 0.5650 - acc: 0.8235 - val_loss: 0.6753 - val_acc: 0.8026\n",
      "Epoch 39/50\n",
      "120/120 [==============================] - 1526s 13s/step - loss: 0.5221 - acc: 0.8323 - val_loss: 0.6303 - val_acc: 0.8058\n",
      "Epoch 40/50\n",
      "120/120 [==============================] - 1519s 13s/step - loss: 0.5092 - acc: 0.8383 - val_loss: 0.5865 - val_acc: 0.8195\n",
      "Epoch 41/50\n",
      "120/120 [==============================] - 1561s 13s/step - loss: 0.4900 - acc: 0.8421 - val_loss: 0.6140 - val_acc: 0.8185\n",
      "Epoch 42/50\n",
      "120/120 [==============================] - 1521s 13s/step - loss: 0.4672 - acc: 0.8523 - val_loss: 0.5923 - val_acc: 0.8209\n",
      "Epoch 43/50\n",
      "120/120 [==============================] - 1520s 13s/step - loss: 0.4929 - acc: 0.8447 - val_loss: 0.5566 - val_acc: 0.8284\n",
      "Epoch 44/50\n",
      "120/120 [==============================] - 1520s 13s/step - loss: 0.4776 - acc: 0.8485 - val_loss: 0.6109 - val_acc: 0.8139\n",
      "Epoch 45/50\n",
      "120/120 [==============================] - 1520s 13s/step - loss: 0.4619 - acc: 0.8531 - val_loss: 0.5647 - val_acc: 0.8276\n",
      "Epoch 46/50\n",
      "120/120 [==============================] - 1519s 13s/step - loss: 0.4489 - acc: 0.8548 - val_loss: 0.6001 - val_acc: 0.8192\n",
      "\n",
      "Epoch 00046: ReduceLROnPlateau reducing learning rate to 1.0000000474974514e-05.\n",
      "Epoch 47/50\n",
      "120/120 [==============================] - 1522s 13s/step - loss: 0.4605 - acc: 0.8534 - val_loss: 0.5823 - val_acc: 0.8274\n",
      "Epoch 48/50\n",
      "120/120 [==============================] - 1521s 13s/step - loss: 0.4329 - acc: 0.8629 - val_loss: 0.6065 - val_acc: 0.8209\n",
      "Epoch 49/50\n",
      "120/120 [==============================] - 1517s 13s/step - loss: 0.4581 - acc: 0.8560 - val_loss: 0.5785 - val_acc: 0.8245\n",
      "\n",
      "Epoch 00049: ReduceLROnPlateau reducing learning rate to 1.0000000656873453e-06.\n",
      "Epoch 50/50\n",
      "120/120 [==============================] - 1513s 13s/step - loss: 0.4466 - acc: 0.8579 - val_loss: 0.5760 - val_acc: 0.8329\n"
     ]
    }
   ],
   "source": [
    "Inception_history_rev = Incepmodel.fit_generator(generator=train_generator_data_rev,\n",
    "                                                 steps_per_epoch=120,\n",
    "                                                 initial_epoch=30,\n",
    "                                                 epochs=50,\n",
    "                                                 verbose=1,\n",
    "                                                 validation_steps=65,\n",
    "                                                 validation_data=validation_generator_data_rev,\n",
    "                                                 callbacks=[reduce_lr])        \n"
   ]
  },
  {
   "cell_type": "code",
   "execution_count": 19,
   "metadata": {},
   "outputs": [
    {
     "data": {
      "text/plain": [
       "<Figure size 432x288 with 0 Axes>"
      ]
     },
     "execution_count": 19,
     "metadata": {},
     "output_type": "execute_result"
    },
    {
     "data": {
      "image/png": "[encoded data removed]",
      "text/plain": [
       "<Figure size 432x288 with 1 Axes>"
      ]
     },
     "metadata": {},
     "output_type": "display_data"
    },
    {
     "data": {
      "text/plain": [
       "<Figure size 432x288 with 0 Axes>"
      ]
     },
     "metadata": {},
     "output_type": "display_data"
    }
   ],
   "source": [
    "vggacc = Inception_history_rev.history['acc']\n",
    "vggval_acc = Inception_history_rev.history['val_acc']\n",
    "vggloss = Inception_history_rev.history['loss']\n",
    "vggval_loss = Inception_history_rev.history['val_loss']\n",
    "vggepochs = range(1, len(vggacc) + 1)\n",
    "plt.plot(vggepochs, vggacc, 'bo', label='Training acc')\n",
    "plt.plot(vggepochs, vggval_acc, 'b', label='Validation acc')\n",
    "plt.title('Training and validation accuracy Inception layer')\n",
    "plt.legend()\n",
    "plt.figure()"
   ]
  },
  {
   "cell_type": "code",
   "execution_count": 20,
   "metadata": {},
   "outputs": [
    {
     "data": {
      "image/png": "[encoded data removed]",
      "text/plain": [
       "<Figure size 432x288 with 1 Axes>"
      ]
     },
     "metadata": {},
     "output_type": "display_data"
    }
   ],
   "source": [
    "plt.plot(vggepochs, vggloss, 'bo', label='Training loss')\n",
    "plt.plot(vggepochs, vggval_loss, 'b', label='Validation loss')\n",
    "plt.title('Training and validation loss --VGG')\n",
    "plt.legend()\n",
    "plt.show()"
   ]
  },
  {
   "cell_type": "code",
   "execution_count": 22,
   "metadata": {},
   "outputs": [
    {
     "name": "stdout",
     "output_type": "stream",
     "text": [
      "No of Layers in Models: 21\n",
      "47/47 [==============================] - 196s 4s/step\n",
      "Test loss: 0.6935402506192525\n",
      "Test accuracy: 0.8043333336512247\n",
      "47/47 [==============================] - 180s 4s/step\n"
     ]
    }
   ],
   "source": [
    "print(\"No of Layers in Models:\",len(Incepmodel.layers))  # \"2\")\n",
    "score = Incepmodel.evaluate_generator(test_generator_data_rev,verbose=1)\n",
    "print('Test loss:', score[0])\n",
    "print('Test accuracy:', score[1])\n",
    "# manual test\n",
    "Predict_Inception = Incepmodel.predict_generator(test_generator_data_rev,verbose=1)\n"
   ]
  },
  {
   "cell_type": "markdown",
   "metadata": {},
   "source": [
    "## Residual Network"
   ]
  },
  {
   "cell_type": "markdown",
   "metadata": {},
   "source": [
    "Backpropagation becomes a problem as network becomes deep and this affects network convergence. So we will sudden increase of loss during network tuning. Output of any NN layer ideally is function of inputs to the layer.\n",
    "Standard approach is Y = F(X) but resnet changes this by Y=F(X) + X. So it is quite clear that it basically does the shortcircuit of two layes and this helps in gradient flows/backprogation. This helps a lot for resolving the issue of vanishing gradients and exploding gradients.\n",
    "Following diagram shows residual connection architecture model.\n",
    "<img src=\"https://image.slidesharecdn.com/mrn-161128091530/95/multimodal-residual-learning-for-visual-qa-14-638.jpg?cb=1480324582\">"
   ]
  },
  {
   "cell_type": "markdown",
   "metadata": {},
   "source": [
    "Residual Connection are of two types and they are\n",
    "- Identity Shortcuts: This means input and output are of same size and hence they can be be connected through shortcut connection quite easily. Keeps no of parameters unchanged.\n",
    "- Dimension change: Zero padding is required here to maintain output size same as input. We do the shortcut connection through 1x1 conv layer. No of parameters will be increased.\n",
    "\n",
    "**Residual Connection with two layers** <img src=\"https://raw.githubusercontent.com/amitkayal/CNNDNNMystery/master/Skip-Connection-Over-2-layers.png\">\n",
    "\n",
    "\n",
    "**Residual Connection with three layers** <img src=\"https://raw.githubusercontent.com/amitkayal/CNNDNNMystery/master/Skip-Connection-Over-3-layers.png\">\n",
    "\n",
    "Upper path in the flow diagram is the shortcut path and the lower path is called main path. "
   ]
  },
  {
   "cell_type": "markdown",
   "metadata": {},
   "source": [
    "### Residual Connection with two layers"
   ]
  },
  {
   "cell_type": "markdown",
   "metadata": {},
   "source": [
    "### Residual Connection with two layers"
   ]
  },
  {
   "cell_type": "code",
   "execution_count": 10,
   "metadata": {},
   "outputs": [],
   "source": [
    "def conv_block(feat_maps_out, prev):\n",
    "    prev = Dropout(droprate)(prev)\n",
    "    prev = BatchNormalization()(prev) # Specifying the axis and mode allows for later merging\n",
    "    #prev = Activation('relu')(prev)\n",
    "    prev = Conv2D(feat_maps_out,(3,3), padding='same', activation='relu')(prev) \n",
    "    #prev = MaxPooling2D()(prev)\n",
    "    prev = Dropout(droprate)(prev)\n",
    "\n",
    "    \n",
    "    prev = BatchNormalization()(prev) # Specifying the axis and mode allows for later merging\n",
    "    #prev = Activation('relu')(prev)\n",
    "    prev = Conv2D(feat_maps_out,(3,3), border_mode='same',activation='relu')(prev) \n",
    "    return prev"
   ]
  },
  {
   "cell_type": "code",
   "execution_count": 11,
   "metadata": {},
   "outputs": [],
   "source": [
    "def skip_block(feat_maps_in, feat_maps_out, prev):\n",
    "    if feat_maps_in != feat_maps_out:\n",
    "        # This adds in a 1x1 convolution on shortcuts that map between an uneven amount of channels\n",
    "        #nprev = Convolution2D(feat_maps_out, 1, 1, border_mode='same')(prev)\n",
    "        nprev = Conv2D(feat_maps_out, (1,1), padding='same', activation='relu')(prev)\n",
    "    return nprev "
   ]
  },
  {
   "cell_type": "code",
   "execution_count": 12,
   "metadata": {},
   "outputs": [],
   "source": [
    "def Residual(feat_maps_in, feat_maps_out, prev_layer):\n",
    "    skip = skip_block(feat_maps_in, feat_maps_out, prev_layer)\n",
    "    conv = conv_block(feat_maps_out, prev_layer)\n",
    "    print('Residual block mapping '+str(feat_maps_in)+' channels to '+str(feat_maps_out)+' channels built')\n",
    "    return keras.layers.add([skip, conv]) "
   ]
  },
  {
   "cell_type": "code",
   "execution_count": 13,
   "metadata": {},
   "outputs": [],
   "source": [
    "#reduce_lr_rev = ReduceLROnPlateau(monitor='val_loss', factor=0.002,\n",
    " #                             patience=2, min_lr=0.005)\n",
    "\n",
    "reduce_lr_rev = ReduceLROnPlateau(monitor='val_loss', factor=0.002,\n",
    "                              patience=5, min_lr=0.00001)\n"
   ]
  },
  {
   "cell_type": "code",
   "execution_count": 14,
   "metadata": {},
   "outputs": [
    {
     "name": "stdout",
     "output_type": "stream",
     "text": [
      "P2-Shortcut Path Tensor Shape before conv: (?, 50, 50, 32)\n",
      "P2-Main Path Tensor Shape - before zero padding: (?, 4, 4, 256)\n",
      "P2-Shortcut Path Tensor Shape-before Merge: (?, 8, 8, 256)\n",
      "P2-Main Path Tensor Shape - before Merge: (?, 8, 8, 256)\n",
      "Main Path Tensor Shape before flatening: (?, 4, 4, 256)\n"
     ]
    }
   ],
   "source": [
    "img_rows = 50  \n",
    "img_cols = 50 \n",
    "\n",
    "#convolution 1st layer\n",
    "droprate=0.3\n",
    "droprateRev=0.55\n",
    "\n",
    "\n",
    "input_img = Input(shape = (image_width,image_height, 3))\n",
    "\n",
    "# Define the input as a tensor with shape input_shape\n",
    "input_tensor_X = Input(shape = (image_width,image_height, 3))\n",
    "\n",
    "# Zero-Padding\n",
    "\n",
    "input_tensor = input_tensor_X \n",
    "\n",
    "# Stage 1 First Component - COnvolution Layer\n",
    "input_tensor_X = Conv2D(32,(3,3), activation='relu', strides=(1, 1), padding='same', input_shape=(image_height,image_width,3),name =\"conv_name_base-2a\")(input_tensor_X)\n",
    "input_tensor_X = BatchNormalization()(input_tensor_X)\n",
    "#input_tensor_X = MaxPooling2D()(input_tensor_X)\n",
    "input_tensor_X = Dropout(droprate)(input_tensor_X)\n",
    "\n",
    "###\n",
    "input_tensor_X_2nd_Shortcut = input_tensor_X # Save the input value. You'll need this later to add back to the main path.\n",
    "\n",
    "# Stage 2 - Second Component - COnvolution Layer\n",
    "input_tensor_X = Conv2D(64,(3,3), padding='same',activation='relu',name =\"conv_name_base-2b\")(input_tensor_X)\n",
    "input_tensor_X = BatchNormalization()(input_tensor_X)\n",
    "input_tensor_X = MaxPooling2D()(input_tensor_X)\n",
    "input_tensor_X = Dropout(droprate)(input_tensor_X)\n",
    "\n",
    "\n",
    "# Stage 3 - Third Component - COnvolution Layer\n",
    "input_tensor_X = Conv2D(128,(3,3), padding='valid',activation='relu',name =\"conv_name_base-2c\")(input_tensor_X)\n",
    "input_tensor_X = BatchNormalization()(input_tensor_X)\n",
    "input_tensor_X = MaxPooling2D()(input_tensor_X)\n",
    "input_tensor_X = Dropout(droprateRev)(input_tensor_X)\n",
    "\n",
    "#input_tensor_X =  Add()([X_shortcut, input_tensor_X])  # equivalent to added = keras.layers.add([x1, x2])\n",
    "\n",
    "#Stage 4 - Fourth Component - convolution 4th layer\n",
    "input_tensor_X =Conv2D(256,(3,3), padding='valid',activation='relu',name =\"conv_name_base-2d\")(input_tensor_X)\n",
    "input_tensor_X = BatchNormalization()(input_tensor_X)\n",
    "input_tensor_X = MaxPooling2D()(input_tensor_X)\n",
    "input_tensor_X = Dropout(droprateRev)(input_tensor_X)\n",
    "\n",
    "print(\"P2-Shortcut Path Tensor Shape before conv:\",input_tensor_X_2nd_Shortcut.shape)\n",
    "print(\"P2-Main Path Tensor Shape - before zero padding:\",input_tensor_X.shape)\n",
    "\n",
    "### So here we see that there is shape difference and we need to bring the shortcut path to same shape of main path\n",
    "input_tensor_X = ZeroPadding2D(2)(input_tensor_X)\n",
    "\n",
    "input_tensor_X_2nd_Shortcut = Conv2D(256,(1,1), strides=(7, 7), padding='valid',activation='relu',name =\"conv_name_shortcut-2f\")(input_tensor_X_2nd_Shortcut)\n",
    "\n",
    "\n",
    "print(\"P2-Shortcut Path Tensor Shape-before Merge:\",input_tensor_X_2nd_Shortcut.shape)\n",
    "print(\"P2-Main Path Tensor Shape - before Merge:\",input_tensor_X.shape)\n",
    "\n",
    "input_tensor_X =  Add()([input_tensor_X_2nd_Shortcut, input_tensor_X])  # equivalent to added = keras.layers.add([x1, x2])\n",
    "\n",
    "input_tensor_X = Activation('relu')(input_tensor_X)\n",
    "input_tensor_X = MaxPooling2D()(input_tensor_X)\n",
    "input_tensor_X = Dropout(droprateRev)(input_tensor_X)\n",
    "\n",
    "# output layer\n",
    "print(\"Main Path Tensor Shape before flatening:\",input_tensor_X.shape)\n",
    "\n",
    "input_tensor_X = Flatten()(input_tensor_X)\n",
    "input_tensor_X = Dense(256, activation='relu',name =\"First_FC_Layer\")(input_tensor_X)\n",
    "\n",
    "input_tensor_X =Dense(128, activation='relu',use_bias=False, kernel_initializer='glorot_uniform',name =\"Second_FC_Layer\")(input_tensor_X)\n",
    "\n",
    "Output_Tensor = Dense(50, activation='softmax')(input_tensor_X)\n",
    "\n",
    "# Create model\n",
    "modelRes = Model(inputs=input_tensor,outputs=Output_Tensor)\n"
   ]
  },
  {
   "cell_type": "code",
   "execution_count": 15,
   "metadata": {},
   "outputs": [
    {
     "name": "stdout",
     "output_type": "stream",
     "text": [
      "__________________________________________________________________________________________________\n",
      "Layer (type)                    Output Shape         Param #     Connected to                     \n",
      "==================================================================================================\n",
      "input_2 (InputLayer)            (None, 50, 50, 3)    0                                            \n",
      "__________________________________________________________________________________________________\n",
      "conv_name_base-2a (Conv2D)      (None, 50, 50, 32)   896         input_2[0][0]                    \n",
      "__________________________________________________________________________________________________\n",
      "batch_normalization_1 (BatchNor (None, 50, 50, 32)   128         conv_name_base-2a[0][0]          \n",
      "__________________________________________________________________________________________________\n",
      "dropout_1 (Dropout)             (None, 50, 50, 32)   0           batch_normalization_1[0][0]      \n",
      "__________________________________________________________________________________________________\n",
      "conv_name_base-2b (Conv2D)      (None, 50, 50, 64)   18496       dropout_1[0][0]                  \n",
      "__________________________________________________________________________________________________\n",
      "batch_normalization_2 (BatchNor (None, 50, 50, 64)   256         conv_name_base-2b[0][0]          \n",
      "__________________________________________________________________________________________________\n",
      "max_pooling2d_1 (MaxPooling2D)  (None, 25, 25, 64)   0           batch_normalization_2[0][0]      \n",
      "__________________________________________________________________________________________________\n",
      "dropout_2 (Dropout)             (None, 25, 25, 64)   0           max_pooling2d_1[0][0]            \n",
      "__________________________________________________________________________________________________\n",
      "conv_name_base-2c (Conv2D)      (None, 23, 23, 128)  73856       dropout_2[0][0]                  \n",
      "__________________________________________________________________________________________________\n",
      "batch_normalization_3 (BatchNor (None, 23, 23, 128)  512         conv_name_base-2c[0][0]          \n",
      "__________________________________________________________________________________________________\n",
      "max_pooling2d_2 (MaxPooling2D)  (None, 11, 11, 128)  0           batch_normalization_3[0][0]      \n",
      "__________________________________________________________________________________________________\n",
      "dropout_3 (Dropout)             (None, 11, 11, 128)  0           max_pooling2d_2[0][0]            \n",
      "__________________________________________________________________________________________________\n",
      "conv_name_base-2d (Conv2D)      (None, 9, 9, 256)    295168      dropout_3[0][0]                  \n",
      "__________________________________________________________________________________________________\n",
      "batch_normalization_4 (BatchNor (None, 9, 9, 256)    1024        conv_name_base-2d[0][0]          \n",
      "__________________________________________________________________________________________________\n",
      "max_pooling2d_3 (MaxPooling2D)  (None, 4, 4, 256)    0           batch_normalization_4[0][0]      \n",
      "__________________________________________________________________________________________________\n",
      "dropout_4 (Dropout)             (None, 4, 4, 256)    0           max_pooling2d_3[0][0]            \n",
      "__________________________________________________________________________________________________\n",
      "conv_name_shortcut-2f (Conv2D)  (None, 8, 8, 256)    8448        dropout_1[0][0]                  \n",
      "__________________________________________________________________________________________________\n",
      "zero_padding2d_1 (ZeroPadding2D (None, 8, 8, 256)    0           dropout_4[0][0]                  \n",
      "__________________________________________________________________________________________________\n",
      "add_1 (Add)                     (None, 8, 8, 256)    0           conv_name_shortcut-2f[0][0]      \n",
      "                                                                 zero_padding2d_1[0][0]           \n",
      "__________________________________________________________________________________________________\n",
      "activation_1 (Activation)       (None, 8, 8, 256)    0           add_1[0][0]                      \n",
      "__________________________________________________________________________________________________\n",
      "max_pooling2d_4 (MaxPooling2D)  (None, 4, 4, 256)    0           activation_1[0][0]               \n",
      "__________________________________________________________________________________________________\n",
      "dropout_5 (Dropout)             (None, 4, 4, 256)    0           max_pooling2d_4[0][0]            \n",
      "__________________________________________________________________________________________________\n",
      "flatten_1 (Flatten)             (None, 4096)         0           dropout_5[0][0]                  \n",
      "__________________________________________________________________________________________________\n",
      "First_FC_Layer (Dense)          (None, 256)          1048832     flatten_1[0][0]                  \n",
      "__________________________________________________________________________________________________\n",
      "Second_FC_Layer (Dense)         (None, 128)          32768       First_FC_Layer[0][0]             \n",
      "__________________________________________________________________________________________________\n",
      "dense_1 (Dense)                 (None, 50)           6450        Second_FC_Layer[0][0]            \n",
      "==================================================================================================\n",
      "Total params: 1,486,834\n",
      "Trainable params: 1,485,874\n",
      "Non-trainable params: 960\n",
      "__________________________________________________________________________________________________\n",
      "No of Parameters after layers freezing: 23\n"
     ]
    }
   ],
   "source": [
    "modelRes.compile(loss='categorical_crossentropy',\n",
    "                     optimizer= 'adam',\n",
    "                     metrics=['accuracy'])\n",
    "modelRes.summary()\n",
    "print(\"No of Parameters after layers freezing:\",len(modelRes.trainable_weights))"
   ]
  },
  {
   "cell_type": "code",
   "execution_count": 16,
   "metadata": {},
   "outputs": [],
   "source": [
    "reduce_lr = ReduceLROnPlateau(monitor='val_loss', factor=0.11,min_delta=0.0011,mode='auto',verbose=1,\n",
    "                              patience=1, min_lr=0.000005)\n",
    "\n",
    "\n",
    "reduce_lr = ReduceLROnPlateau(monitor='val_loss', factor=0.11,min_delta=0.0001,mode='auto',verbose=1,\n",
    "                              patience=1, min_lr=0.0000025)"
   ]
  },
  {
   "cell_type": "code",
   "execution_count": 17,
   "metadata": {},
   "outputs": [
    {
     "name": "stdout",
     "output_type": "stream",
     "text": [
      "Epoch 1/30\n",
      "120/120 [==============================] - 986s 8s/step - loss: 4.0024 - acc: 0.0393 - val_loss: 3.8873 - val_acc: 0.0425\n",
      "Epoch 2/30\n",
      "120/120 [==============================] - 1009s 8s/step - loss: 3.7442 - acc: 0.0609 - val_loss: 3.7723 - val_acc: 0.0488\n",
      "Epoch 3/30\n",
      "120/120 [==============================] - 972s 8s/step - loss: 3.4662 - acc: 0.0965 - val_loss: 3.3674 - val_acc: 0.1305\n",
      "Epoch 4/30\n",
      "120/120 [==============================] - 982s 8s/step - loss: 3.2213 - acc: 0.1299 - val_loss: 3.2627 - val_acc: 0.1190\n",
      "Epoch 5/30\n",
      "120/120 [==============================] - 913s 8s/step - loss: 3.0190 - acc: 0.1648 - val_loss: 3.0400 - val_acc: 0.1762\n",
      "Epoch 6/30\n",
      "120/120 [==============================] - 888s 7s/step - loss: 2.8871 - acc: 0.1932 - val_loss: 2.9807 - val_acc: 0.1882\n",
      "Epoch 7/30\n",
      "120/120 [==============================] - 882s 7s/step - loss: 2.7553 - acc: 0.2301 - val_loss: 2.6825 - val_acc: 0.2418\n",
      "Epoch 8/30\n",
      "120/120 [==============================] - 876s 7s/step - loss: 2.6412 - acc: 0.2517 - val_loss: 2.6516 - val_acc: 0.2637\n",
      "Epoch 9/30\n",
      "120/120 [==============================] - 5998s 50s/step - loss: 2.5445 - acc: 0.2871 - val_loss: 2.6074 - val_acc: 0.2887\n",
      "Epoch 10/30\n",
      "120/120 [==============================] - 805s 7s/step - loss: 2.4209 - acc: 0.2975 - val_loss: 2.4728 - val_acc: 0.3130\n",
      "Epoch 11/30\n",
      "120/120 [==============================] - 836s 7s/step - loss: 2.3725 - acc: 0.3155 - val_loss: 2.4203 - val_acc: 0.3132\n",
      "Epoch 12/30\n",
      "120/120 [==============================] - 880s 7s/step - loss: 2.2944 - acc: 0.3342 - val_loss: 2.3526 - val_acc: 0.3387\n",
      "Epoch 13/30\n",
      "120/120 [==============================] - 786s 7s/step - loss: 2.1968 - acc: 0.3574 - val_loss: 2.3126 - val_acc: 0.3409\n",
      "Epoch 14/30\n",
      "120/120 [==============================] - 805s 7s/step - loss: 2.1325 - acc: 0.3784 - val_loss: 2.2831 - val_acc: 0.3401\n",
      "Epoch 15/30\n",
      "120/120 [==============================] - 878s 7s/step - loss: 2.0745 - acc: 0.3920 - val_loss: 2.0516 - val_acc: 0.4195\n",
      "Epoch 16/30\n",
      "120/120 [==============================] - 850s 7s/step - loss: 1.9988 - acc: 0.4115 - val_loss: 2.2119 - val_acc: 0.3704\n",
      "\n",
      "Epoch 00016: ReduceLROnPlateau reducing learning rate to 0.00011000000522471964.\n",
      "Epoch 17/30\n",
      "120/120 [==============================] - 795s 7s/step - loss: 1.9220 - acc: 0.4407 - val_loss: 1.9511 - val_acc: 0.4538\n",
      "Epoch 18/30\n",
      "120/120 [==============================] - 828s 7s/step - loss: 1.8951 - acc: 0.4404 - val_loss: 1.9425 - val_acc: 0.4668\n",
      "Epoch 19/30\n",
      "120/120 [==============================] - 819s 7s/step - loss: 1.8463 - acc: 0.4513 - val_loss: 1.8937 - val_acc: 0.4738\n",
      "Epoch 20/30\n",
      "120/120 [==============================] - 767s 6s/step - loss: 1.8372 - acc: 0.4602 - val_loss: 1.9317 - val_acc: 0.4651\n",
      "\n",
      "Epoch 00020: ReduceLROnPlateau reducing learning rate to 1.2100000894861296e-05.\n",
      "Epoch 21/30\n",
      "120/120 [==============================] - 832s 7s/step - loss: 1.8379 - acc: 0.4610 - val_loss: 1.9119 - val_acc: 0.4546\n",
      "\n",
      "Epoch 00021: ReduceLROnPlateau reducing learning rate to 2.5e-06.\n",
      "Epoch 22/30\n",
      "120/120 [==============================] - 810s 7s/step - loss: 1.8133 - acc: 0.4559 - val_loss: 1.9037 - val_acc: 0.4654\n",
      "Epoch 23/30\n",
      "120/120 [==============================] - 789s 7s/step - loss: 1.8140 - acc: 0.4685 - val_loss: 1.9086 - val_acc: 0.4635\n",
      "Epoch 24/30\n",
      "120/120 [==============================] - 743s 6s/step - loss: 1.8287 - acc: 0.4621 - val_loss: 1.8992 - val_acc: 0.4659\n",
      "Epoch 25/30\n",
      "120/120 [==============================] - 755s 6s/step - loss: 1.8302 - acc: 0.4582 - val_loss: 1.8993 - val_acc: 0.4714\n",
      "Epoch 26/30\n",
      "120/120 [==============================] - 763s 6s/step - loss: 1.8308 - acc: 0.4660 - val_loss: 1.8803 - val_acc: 0.4788\n",
      "Epoch 27/30\n",
      "120/120 [==============================] - 914s 8s/step - loss: 1.8059 - acc: 0.4689 - val_loss: 1.8989 - val_acc: 0.4661\n",
      "Epoch 28/30\n",
      "120/120 [==============================] - 935s 8s/step - loss: 1.8483 - acc: 0.4557 - val_loss: 1.9050 - val_acc: 0.4675\n",
      "Epoch 29/30\n",
      "120/120 [==============================] - 942s 8s/step - loss: 1.8063 - acc: 0.4660 - val_loss: 1.9038 - val_acc: 0.4661\n",
      "Epoch 30/30\n",
      "120/120 [==============================] - 943s 8s/step - loss: 1.8306 - acc: 0.4592 - val_loss: 1.9023 - val_acc: 0.4659\n"
     ]
    }
   ],
   "source": [
    "Model_Res_history_rev = modelRes.fit_generator(generator=train_generator_data_rev, \n",
    "                        steps_per_epoch=120,\n",
    "                        epochs=30,                                                \n",
    "                        verbose=1,\n",
    "                        validation_steps=65,  \n",
    "                        validation_data=validation_generator_data_rev,\n",
    "                        callbacks=[reduce_lr])"
   ]
  },
  {
   "cell_type": "code",
   "execution_count": 18,
   "metadata": {},
   "outputs": [
    {
     "data": {
      "text/plain": [
       "<Figure size 432x288 with 0 Axes>"
      ]
     },
     "execution_count": 18,
     "metadata": {},
     "output_type": "execute_result"
    },
    {
     "data": {
      "image/png": "[encoded data removed]",
      "text/plain": [
       "<Figure size 432x288 with 1 Axes>"
      ]
     },
     "metadata": {},
     "output_type": "display_data"
    },
    {
     "data": {
      "text/plain": [
       "<Figure size 432x288 with 0 Axes>"
      ]
     },
     "metadata": {},
     "output_type": "display_data"
    }
   ],
   "source": [
    "vggacc = Model_Res_history_rev.history['acc']\n",
    "vggval_acc = Model_Res_history_rev.history['val_acc']\n",
    "vggloss = Model_Res_history_rev.history['loss']\n",
    "vggval_loss = Model_Res_history_rev.history['val_loss']\n",
    "vggepochs = range(1, len(vggacc) + 1)\n",
    "plt.plot(vggepochs, vggacc, 'bo', label='Training acc')\n",
    "plt.plot(vggepochs, vggval_acc, 'b', label='Validation acc')\n",
    "plt.title('Training and validation accuracy Residucal Conection layer Architecture')\n",
    "plt.legend()\n",
    "plt.figure()"
   ]
  },
  {
   "cell_type": "code",
   "execution_count": 19,
   "metadata": {},
   "outputs": [
    {
     "data": {
      "image/png": "[encoded data removed]",
      "text/plain": [
       "<Figure size 432x288 with 1 Axes>"
      ]
     },
     "metadata": {},
     "output_type": "display_data"
    }
   ],
   "source": [
    "plt.plot(vggepochs, vggloss, 'bo', label='Training loss')\n",
    "plt.plot(vggepochs, vggval_loss, 'b', label='Validation loss')\n",
    "plt.title('Training and validation loss -Residucal Conection layer Architecture')\n",
    "plt.legend()\n",
    "plt.show()"
   ]
  },
  {
   "cell_type": "code",
   "execution_count": 24,
   "metadata": {},
   "outputs": [
    {
     "name": "stdout",
     "output_type": "stream",
     "text": [
      "Res Layer Name: input_2\r",
      "input_2\n",
      "Res Layer Name: conv_name_base-2a\r",
      "conv_name_base-2a\n",
      "Res Layer Name: batch_normalization_1\r",
      "batch_normalization_1\n",
      "Res Layer Name: dropout_1\r",
      "dropout_1\n",
      "Res Layer Name: conv_name_base-2b\r",
      "conv_name_base-2b\n",
      "Res Layer Name: batch_normalization_2\r",
      "batch_normalization_2\n",
      "Res Layer Name: max_pooling2d_1\r",
      "max_pooling2d_1\n",
      "Res Layer Name: dropout_2\r",
      "dropout_2\n",
      "Res Layer Name: conv_name_base-2c\r",
      "conv_name_base-2c\n",
      "Res Layer Name: batch_normalization_3\r",
      "batch_normalization_3\n",
      "Res Layer Name: max_pooling2d_2\r",
      "max_pooling2d_2\n",
      "Res Layer Name: dropout_3\r",
      "dropout_3\n",
      "Res Layer Name: conv_name_base-2d\r",
      "conv_name_base-2d\n",
      "Res Layer Name: batch_normalization_4\r",
      "batch_normalization_4\n",
      "Res Layer Name: max_pooling2d_3\r",
      "max_pooling2d_3\n",
      "Res Layer Name: dropout_4\r",
      "dropout_4\n",
      "Res Layer Name: conv_name_shortcut-2f\r",
      "conv_name_shortcut-2f\n",
      "Res Layer Name: zero_padding2d_1\r",
      "zero_padding2d_1\n",
      "Res Layer Name: add_1\r",
      "add_1\n",
      "Res Layer Name: activation_1\r",
      "activation_1\n",
      "Res Layer Name: max_pooling2d_4\r",
      "max_pooling2d_4\n",
      "Res Layer Name: dropout_5\r",
      "dropout_5\n",
      "Res Layer Name: flatten_1\r",
      "flatten_1\n",
      "Res Layer Name: First_FC_Layer\r",
      "First_FC_Layer\n",
      "Res Layer Name: Second_FC_Layer\r",
      "Second_FC_Layer\n",
      "Res Layer Name: dense_1\r",
      "dense_1\n",
      "__________________________________________________________________________________________________\n",
      "Layer (type)                    Output Shape         Param #     Connected to                     \n",
      "==================================================================================================\n",
      "input_2 (InputLayer)            (None, 50, 50, 3)    0                                            \n",
      "__________________________________________________________________________________________________\n",
      "conv_name_base-2a (Conv2D)      (None, 50, 50, 32)   896         input_2[0][0]                    \n",
      "__________________________________________________________________________________________________\n",
      "batch_normalization_1 (BatchNor (None, 50, 50, 32)   128         conv_name_base-2a[0][0]          \n",
      "__________________________________________________________________________________________________\n",
      "dropout_1 (Dropout)             (None, 50, 50, 32)   0           batch_normalization_1[0][0]      \n",
      "__________________________________________________________________________________________________\n",
      "conv_name_base-2b (Conv2D)      (None, 50, 50, 64)   18496       dropout_1[0][0]                  \n",
      "__________________________________________________________________________________________________\n",
      "batch_normalization_2 (BatchNor (None, 50, 50, 64)   256         conv_name_base-2b[0][0]          \n",
      "__________________________________________________________________________________________________\n",
      "max_pooling2d_1 (MaxPooling2D)  (None, 25, 25, 64)   0           batch_normalization_2[0][0]      \n",
      "__________________________________________________________________________________________________\n",
      "dropout_2 (Dropout)             (None, 25, 25, 64)   0           max_pooling2d_1[0][0]            \n",
      "__________________________________________________________________________________________________\n",
      "conv_name_base-2c (Conv2D)      (None, 23, 23, 128)  73856       dropout_2[0][0]                  \n",
      "__________________________________________________________________________________________________\n",
      "batch_normalization_3 (BatchNor (None, 23, 23, 128)  512         conv_name_base-2c[0][0]          \n",
      "__________________________________________________________________________________________________\n",
      "max_pooling2d_2 (MaxPooling2D)  (None, 11, 11, 128)  0           batch_normalization_3[0][0]      \n",
      "__________________________________________________________________________________________________\n",
      "dropout_3 (Dropout)             (None, 11, 11, 128)  0           max_pooling2d_2[0][0]            \n",
      "__________________________________________________________________________________________________\n",
      "conv_name_base-2d (Conv2D)      (None, 9, 9, 256)    295168      dropout_3[0][0]                  \n",
      "__________________________________________________________________________________________________\n",
      "batch_normalization_4 (BatchNor (None, 9, 9, 256)    1024        conv_name_base-2d[0][0]          \n",
      "__________________________________________________________________________________________________\n",
      "max_pooling2d_3 (MaxPooling2D)  (None, 4, 4, 256)    0           batch_normalization_4[0][0]      \n",
      "__________________________________________________________________________________________________\n",
      "dropout_4 (Dropout)             (None, 4, 4, 256)    0           max_pooling2d_3[0][0]            \n",
      "__________________________________________________________________________________________________\n",
      "conv_name_shortcut-2f (Conv2D)  (None, 8, 8, 256)    8448        dropout_1[0][0]                  \n",
      "__________________________________________________________________________________________________\n",
      "zero_padding2d_1 (ZeroPadding2D (None, 8, 8, 256)    0           dropout_4[0][0]                  \n",
      "__________________________________________________________________________________________________\n",
      "add_1 (Add)                     (None, 8, 8, 256)    0           conv_name_shortcut-2f[0][0]      \n",
      "                                                                 zero_padding2d_1[0][0]           \n",
      "__________________________________________________________________________________________________\n",
      "activation_1 (Activation)       (None, 8, 8, 256)    0           add_1[0][0]                      \n",
      "__________________________________________________________________________________________________\n",
      "max_pooling2d_4 (MaxPooling2D)  (None, 4, 4, 256)    0           activation_1[0][0]               \n",
      "__________________________________________________________________________________________________\n",
      "dropout_5 (Dropout)             (None, 4, 4, 256)    0           max_pooling2d_4[0][0]            \n",
      "__________________________________________________________________________________________________\n",
      "flatten_1 (Flatten)             (None, 4096)         0           dropout_5[0][0]                  \n",
      "__________________________________________________________________________________________________\n",
      "First_FC_Layer (Dense)          (None, 256)          1048832     flatten_1[0][0]                  \n",
      "__________________________________________________________________________________________________\n",
      "Second_FC_Layer (Dense)         (None, 128)          32768       First_FC_Layer[0][0]             \n",
      "__________________________________________________________________________________________________\n",
      "dense_1 (Dense)                 (None, 50)           6450        Second_FC_Layer[0][0]            \n",
      "==================================================================================================\n",
      "Total params: 1,519,602\n",
      "Trainable params: 1,485,874\n",
      "Non-trainable params: 33,728\n",
      "__________________________________________________________________________________________________\n"
     ]
    },
    {
     "name": "stderr",
     "output_type": "stream",
     "text": [
      "c:\\users\\akayal\\devapps\\python36-64\\lib\\site-packages\\keras\\engine\\training.py:478: UserWarning: Discrepancy between trainable weights and collected trainable weights, did you set `model.trainable` without calling `model.compile` after ?\n",
      "  'Discrepancy between trainable weights and collected trainable'\n"
     ]
    }
   ],
   "source": [
    "modelRes.trainable = True\n",
    "\n",
    "for layers in modelRes.layers:\n",
    "    print(\"Res Layer Name:\",layers.name, end='\\r')\n",
    "    print(layers.name)\n",
    "    if any( [layers.name == 'xx', layers.name == 'Second_FC_Layer'] ):\n",
    "        layers.trainable = False\n",
    "    else:\n",
    "        layers.trainable = True \n",
    "        \n",
    "modelRes.summary()"
   ]
  },
  {
   "cell_type": "code",
   "execution_count": 26,
   "metadata": {},
   "outputs": [
    {
     "name": "stdout",
     "output_type": "stream",
     "text": [
      "__________________________________________________________________________________________________\n",
      "Layer (type)                    Output Shape         Param #     Connected to                     \n",
      "==================================================================================================\n",
      "input_2 (InputLayer)            (None, 50, 50, 3)    0                                            \n",
      "__________________________________________________________________________________________________\n",
      "conv_name_base-2a (Conv2D)      (None, 50, 50, 32)   896         input_2[0][0]                    \n",
      "__________________________________________________________________________________________________\n",
      "batch_normalization_1 (BatchNor (None, 50, 50, 32)   128         conv_name_base-2a[0][0]          \n",
      "__________________________________________________________________________________________________\n",
      "dropout_1 (Dropout)             (None, 50, 50, 32)   0           batch_normalization_1[0][0]      \n",
      "__________________________________________________________________________________________________\n",
      "conv_name_base-2b (Conv2D)      (None, 50, 50, 64)   18496       dropout_1[0][0]                  \n",
      "__________________________________________________________________________________________________\n",
      "batch_normalization_2 (BatchNor (None, 50, 50, 64)   256         conv_name_base-2b[0][0]          \n",
      "__________________________________________________________________________________________________\n",
      "max_pooling2d_1 (MaxPooling2D)  (None, 25, 25, 64)   0           batch_normalization_2[0][0]      \n",
      "__________________________________________________________________________________________________\n",
      "dropout_2 (Dropout)             (None, 25, 25, 64)   0           max_pooling2d_1[0][0]            \n",
      "__________________________________________________________________________________________________\n",
      "conv_name_base-2c (Conv2D)      (None, 23, 23, 128)  73856       dropout_2[0][0]                  \n",
      "__________________________________________________________________________________________________\n",
      "batch_normalization_3 (BatchNor (None, 23, 23, 128)  512         conv_name_base-2c[0][0]          \n",
      "__________________________________________________________________________________________________\n",
      "max_pooling2d_2 (MaxPooling2D)  (None, 11, 11, 128)  0           batch_normalization_3[0][0]      \n",
      "__________________________________________________________________________________________________\n",
      "dropout_3 (Dropout)             (None, 11, 11, 128)  0           max_pooling2d_2[0][0]            \n",
      "__________________________________________________________________________________________________\n",
      "conv_name_base-2d (Conv2D)      (None, 9, 9, 256)    295168      dropout_3[0][0]                  \n",
      "__________________________________________________________________________________________________\n",
      "batch_normalization_4 (BatchNor (None, 9, 9, 256)    1024        conv_name_base-2d[0][0]          \n",
      "__________________________________________________________________________________________________\n",
      "max_pooling2d_3 (MaxPooling2D)  (None, 4, 4, 256)    0           batch_normalization_4[0][0]      \n",
      "__________________________________________________________________________________________________\n",
      "dropout_4 (Dropout)             (None, 4, 4, 256)    0           max_pooling2d_3[0][0]            \n",
      "__________________________________________________________________________________________________\n",
      "conv_name_shortcut-2f (Conv2D)  (None, 8, 8, 256)    8448        dropout_1[0][0]                  \n",
      "__________________________________________________________________________________________________\n",
      "zero_padding2d_1 (ZeroPadding2D (None, 8, 8, 256)    0           dropout_4[0][0]                  \n",
      "__________________________________________________________________________________________________\n",
      "add_1 (Add)                     (None, 8, 8, 256)    0           conv_name_shortcut-2f[0][0]      \n",
      "                                                                 zero_padding2d_1[0][0]           \n",
      "__________________________________________________________________________________________________\n",
      "activation_1 (Activation)       (None, 8, 8, 256)    0           add_1[0][0]                      \n",
      "__________________________________________________________________________________________________\n",
      "max_pooling2d_4 (MaxPooling2D)  (None, 4, 4, 256)    0           activation_1[0][0]               \n",
      "__________________________________________________________________________________________________\n",
      "dropout_5 (Dropout)             (None, 4, 4, 256)    0           max_pooling2d_4[0][0]            \n",
      "__________________________________________________________________________________________________\n",
      "flatten_1 (Flatten)             (None, 4096)         0           dropout_5[0][0]                  \n",
      "__________________________________________________________________________________________________\n",
      "First_FC_Layer (Dense)          (None, 256)          1048832     flatten_1[0][0]                  \n",
      "__________________________________________________________________________________________________\n",
      "Second_FC_Layer (Dense)         (None, 128)          32768       First_FC_Layer[0][0]             \n",
      "__________________________________________________________________________________________________\n",
      "dense_1 (Dense)                 (None, 50)           6450        Second_FC_Layer[0][0]            \n",
      "==================================================================================================\n",
      "Total params: 1,486,834\n",
      "Trainable params: 1,453,106\n",
      "Non-trainable params: 33,728\n",
      "__________________________________________________________________________________________________\n",
      "No of Parameters after layers freezing: 22\n"
     ]
    }
   ],
   "source": [
    "modelRes.compile(loss='categorical_crossentropy',\n",
    "                     optimizer= 'sgd',\n",
    "                     metrics=['accuracy'])\n",
    "modelRes.summary()\n",
    "print(\"No of Parameters after layers freezing:\",len(modelRes.trainable_weights))"
   ]
  },
  {
   "cell_type": "code",
   "execution_count": 28,
   "metadata": {},
   "outputs": [],
   "source": [
    "reduce_lr_r = ReduceLROnPlateau(monitor='val_loss', factor=0.105,min_delta=0.0001,mode='auto',verbose=1,\n",
    "                              patience=1, min_lr=0.0000025)"
   ]
  },
  {
   "cell_type": "code",
   "execution_count": 29,
   "metadata": {},
   "outputs": [
    {
     "name": "stdout",
     "output_type": "stream",
     "text": [
      "Epoch 31/70\n",
      "120/120 [==============================] - 911s 8s/step - loss: 1.8573 - acc: 0.4542 - val_loss: 1.8702 - val_acc: 0.4685\n",
      "Epoch 32/70\n",
      "120/120 [==============================] - 939s 8s/step - loss: 1.8459 - acc: 0.4493 - val_loss: 2.0012 - val_acc: 0.4322\n",
      "\n",
      "Epoch 00032: ReduceLROnPlateau reducing learning rate to 0.001049999976530671.\n",
      "Epoch 33/70\n",
      "120/120 [==============================] - 947s 8s/step - loss: 1.8193 - acc: 0.4682 - val_loss: 1.9038 - val_acc: 0.4671\n",
      "\n",
      "Epoch 00033: ReduceLROnPlateau reducing learning rate to 0.00011024999606888741.\n",
      "Epoch 34/70\n",
      "120/120 [==============================] - 916s 8s/step - loss: 1.8072 - acc: 0.4666 - val_loss: 1.8983 - val_acc: 0.4678\n",
      "\n",
      "Epoch 00034: ReduceLROnPlateau reducing learning rate to 1.1576249526115133e-05.\n",
      "Epoch 35/70\n",
      "120/120 [==============================] - 931s 8s/step - loss: 1.8264 - acc: 0.4653 - val_loss: 1.8809 - val_acc: 0.4772\n",
      "\n",
      "Epoch 00035: ReduceLROnPlateau reducing learning rate to 2.5e-06.\n",
      "Epoch 36/70\n",
      "120/120 [==============================] - 942s 8s/step - loss: 1.8243 - acc: 0.4642 - val_loss: 1.8998 - val_acc: 0.4627\n",
      "Epoch 37/70\n",
      "120/120 [==============================] - 933s 8s/step - loss: 1.7994 - acc: 0.4692 - val_loss: 1.9077 - val_acc: 0.4613\n",
      "Epoch 38/70\n",
      "120/120 [==============================] - 942s 8s/step - loss: 1.8045 - acc: 0.4639 - val_loss: 1.9115 - val_acc: 0.4716\n",
      "Epoch 39/70\n",
      "120/120 [==============================] - 930s 8s/step - loss: 1.8346 - acc: 0.4594 - val_loss: 1.8901 - val_acc: 0.4663\n",
      "Epoch 40/70\n",
      "120/120 [==============================] - 914s 8s/step - loss: 1.8092 - acc: 0.4630 - val_loss: 1.8793 - val_acc: 0.4704\n",
      "Epoch 41/70\n",
      "120/120 [==============================] - 924s 8s/step - loss: 1.8037 - acc: 0.4707 - val_loss: 1.9008 - val_acc: 0.4647\n",
      "Epoch 42/70\n",
      "120/120 [==============================] - 924s 8s/step - loss: 1.8084 - acc: 0.4694 - val_loss: 1.8851 - val_acc: 0.4688\n",
      "Epoch 43/70\n",
      "120/120 [==============================] - 935s 8s/step - loss: 1.8465 - acc: 0.4602 - val_loss: 1.9026 - val_acc: 0.4675\n",
      "Epoch 44/70\n",
      "120/120 [==============================] - 938s 8s/step - loss: 1.8169 - acc: 0.4687 - val_loss: 1.8761 - val_acc: 0.4755\n",
      "Epoch 45/70\n",
      "120/120 [==============================] - 931s 8s/step - loss: 1.8133 - acc: 0.4591 - val_loss: 1.8998 - val_acc: 0.4690\n",
      "Epoch 46/70\n",
      "120/120 [==============================] - 923s 8s/step - loss: 1.7970 - acc: 0.4736 - val_loss: 1.8813 - val_acc: 0.4776\n",
      "Epoch 47/70\n",
      "120/120 [==============================] - 932s 8s/step - loss: 1.7859 - acc: 0.4738 - val_loss: 1.8954 - val_acc: 0.4712\n",
      "Epoch 48/70\n",
      "120/120 [==============================] - 902s 8s/step - loss: 1.8394 - acc: 0.4552 - val_loss: 1.8972 - val_acc: 0.4649\n",
      "Epoch 49/70\n",
      "120/120 [==============================] - 915s 8s/step - loss: 1.7862 - acc: 0.4740 - val_loss: 1.9022 - val_acc: 0.4596\n",
      "Epoch 50/70\n",
      "120/120 [==============================] - 913s 8s/step - loss: 1.8064 - acc: 0.4613 - val_loss: 1.8912 - val_acc: 0.4534\n",
      "Epoch 51/70\n",
      "120/120 [==============================] - 943s 8s/step - loss: 1.8090 - acc: 0.4680 - val_loss: 1.8713 - val_acc: 0.4762\n",
      "Epoch 52/70\n",
      "120/120 [==============================] - 914s 8s/step - loss: 1.8577 - acc: 0.4609 - val_loss: 1.8916 - val_acc: 0.4714\n",
      "Epoch 53/70\n",
      "120/120 [==============================] - 917s 8s/step - loss: 1.8098 - acc: 0.4670 - val_loss: 1.8947 - val_acc: 0.4724\n",
      "Epoch 54/70\n",
      "120/120 [==============================] - 920s 8s/step - loss: 1.8344 - acc: 0.4625 - val_loss: 1.8880 - val_acc: 0.4704\n",
      "Epoch 55/70\n",
      "120/120 [==============================] - 917s 8s/step - loss: 1.7918 - acc: 0.4650 - val_loss: 1.9058 - val_acc: 0.4760\n",
      "Epoch 56/70\n",
      "120/120 [==============================] - 905s 8s/step - loss: 1.8075 - acc: 0.4708 - val_loss: 1.9018 - val_acc: 0.4642\n",
      "Epoch 57/70\n",
      "120/120 [==============================] - 889s 7s/step - loss: 1.7847 - acc: 0.4738 - val_loss: 1.8862 - val_acc: 0.4666\n",
      "Epoch 58/70\n",
      "120/120 [==============================] - 897s 7s/step - loss: 1.8057 - acc: 0.4733 - val_loss: 1.8967 - val_acc: 0.4709\n",
      "Epoch 59/70\n",
      "120/120 [==============================] - 904s 8s/step - loss: 1.8167 - acc: 0.4570 - val_loss: 1.8896 - val_acc: 0.4627\n",
      "Epoch 60/70\n",
      "120/120 [==============================] - 908s 8s/step - loss: 1.8161 - acc: 0.4664 - val_loss: 1.8883 - val_acc: 0.4752\n",
      "Epoch 61/70\n",
      "120/120 [==============================] - 907s 8s/step - loss: 1.8296 - acc: 0.4535 - val_loss: 1.8922 - val_acc: 0.4654\n",
      "Epoch 62/70\n",
      "120/120 [==============================] - 894s 7s/step - loss: 1.8176 - acc: 0.4639 - val_loss: 1.8888 - val_acc: 0.4673\n",
      "Epoch 63/70\n",
      "120/120 [==============================] - 3318s 28s/step - loss: 1.8092 - acc: 0.4689 - val_loss: 1.8913 - val_acc: 0.4690\n",
      "Epoch 64/70\n",
      "120/120 [==============================] - 938s 8s/step - loss: 1.8295 - acc: 0.4626 - val_loss: 1.8834 - val_acc: 0.4736\n",
      "Epoch 65/70\n",
      "120/120 [==============================] - 827s 7s/step - loss: 1.8009 - acc: 0.4733 - val_loss: 1.9045 - val_acc: 0.4637\n",
      "Epoch 66/70\n",
      "120/120 [==============================] - 760s 6s/step - loss: 1.8089 - acc: 0.4678 - val_loss: 1.9172 - val_acc: 0.4558\n",
      "Epoch 67/70\n",
      "120/120 [==============================] - 906s 8s/step - loss: 1.7956 - acc: 0.4683 - val_loss: 1.9072 - val_acc: 0.4623\n",
      "Epoch 68/70\n",
      "120/120 [==============================] - 938s 8s/step - loss: 1.8287 - acc: 0.4674 - val_loss: 1.8952 - val_acc: 0.4688\n",
      "Epoch 69/70\n",
      "120/120 [==============================] - 872s 7s/step - loss: 1.8285 - acc: 0.4583 - val_loss: 1.8867 - val_acc: 0.4700\n",
      "Epoch 70/70\n",
      "120/120 [==============================] - 812s 7s/step - loss: 1.8094 - acc: 0.4680 - val_loss: 1.8912 - val_acc: 0.4740\n"
     ]
    }
   ],
   "source": [
    "Model_Res_history_rev = modelRes.fit_generator(generator=train_generator_data_rev,\n",
    "                                                 steps_per_epoch=120,\n",
    "                                                 initial_epoch=30,\n",
    "                                                 epochs=70,\n",
    "                                                 verbose=1,\n",
    "                                                 validation_steps=65,\n",
    "                                                 validation_data=validation_generator_data_rev,\n",
    "                                                 callbacks=[reduce_lr_r])        \n"
   ]
  },
  {
   "cell_type": "code",
   "execution_count": 31,
   "metadata": {},
   "outputs": [
    {
     "data": {
      "text/plain": [
       "<Figure size 432x288 with 0 Axes>"
      ]
     },
     "execution_count": 31,
     "metadata": {},
     "output_type": "execute_result"
    },
    {
     "data": {
      "image/png": "[encoded data removed]",
      "text/plain": [
       "<Figure size 432x288 with 1 Axes>"
      ]
     },
     "metadata": {},
     "output_type": "display_data"
    },
    {
     "data": {
      "text/plain": [
       "<Figure size 432x288 with 0 Axes>"
      ]
     },
     "metadata": {},
     "output_type": "display_data"
    }
   ],
   "source": [
    "vggacc = Model_Res_history_rev.history['acc']\n",
    "vggval_acc = Model_Res_history_rev.history['val_acc']\n",
    "vggloss = Model_Res_history_rev.history['loss']\n",
    "vggval_loss = Model_Res_history_rev.history['val_loss']\n",
    "vggepochs = range(1, len(vggacc) + 1)\n",
    "plt.plot(vggepochs, vggacc, 'bo', label='Training acc')\n",
    "plt.plot(vggepochs, vggval_acc, 'b', label='Validation acc')\n",
    "plt.title('Training and validation accuracy Residucal Conection layer Architecture')\n",
    "plt.legend()\n",
    "plt.figure()"
   ]
  },
  {
   "cell_type": "code",
   "execution_count": 32,
   "metadata": {},
   "outputs": [
    {
     "data": {
      "image/png": "[encoded data removed]",
      "text/plain": [
       "<Figure size 432x288 with 1 Axes>"
      ]
     },
     "metadata": {},
     "output_type": "display_data"
    }
   ],
   "source": [
    "plt.plot(vggepochs, vggloss, 'bo', label='Training loss')\n",
    "plt.plot(vggepochs, vggval_loss, 'b', label='Validation loss')\n",
    "plt.title('Training and validation loss -Residucal Conection layer Architecture')\n",
    "plt.legend()\n",
    "plt.show()"
   ]
  },
  {
   "cell_type": "code",
   "execution_count": null,
   "metadata": {},
   "outputs": [],
   "source": []
  }
 ],
 "metadata": {
  "kernelspec": {
   "display_name": "Python 3",
   "language": "python",
   "name": "python3"
  },
  "language_info": {
   "codemirror_mode": {
    "name": "ipython",
    "version": 3
   },
   "file_extension": ".py",
   "mimetype": "text/x-python",
   "name": "python",
   "nbconvert_exporter": "python",
   "pygments_lexer": "ipython3",
   "version": "3.6.5"
  }
 },
 "nbformat": 4,
 "nbformat_minor": 2
}
