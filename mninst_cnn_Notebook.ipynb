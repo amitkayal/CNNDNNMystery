{
 "cells": [
  {
   "cell_type": "code",
   "execution_count": 25,
   "metadata": {
    "colab": {
     "autoexec": {
      "startup": false,
      "wait_interval": 0
     },
     "base_uri": "https://localhost:8080/",
     "height": 34
    },
    "colab_type": "code",
    "executionInfo": {
     "elapsed": 2374,
     "status": "ok",
     "timestamp": 1531071214866,
     "user": {
      "displayName": "Amit K",
      "photoUrl": "https://lh3.googleusercontent.com/a/default-user=s128",
      "userId": "110122147172191395538"
     },
     "user_tz": -330
    },
    "id": "J_eGR7vRDFg6",
    "outputId": "36039ae2-c9df-402b-c318-0439cc31197a"
   },
   "outputs": [],
   "source": [
    "import numpy as np\n",
    "import scipy\n",
    "import os\n",
    "import keras\n",
    "from keras.datasets import cifar10\n",
    "from keras.models import Model, Sequential\n",
    "from keras.layers import Dense, Dropout, Flatten, Input, AveragePooling2D, merge, Activation\n",
    "from keras.layers import Conv2D, MaxPooling2D, BatchNormalization,regularizers\n",
    "from keras.preprocessing .image import ImageDataGenerator\n",
    "from keras.layers import Concatenate\n",
    "from keras.optimizers import Adam\n",
    "from keras.callbacks import ModelCheckpoint, EarlyStopping\n",
    "from keras.utils.np_utils import to_categorical\n",
    "from keras.optimizers import SGD\n",
    "from matplotlib import pyplot as plt   \n",
    "from keras.datasets import mnist\n",
    "from keras.utils import np_utils\n",
    "from keras.models import load_model\n",
    "from keras import regularizers\n",
    "import cv2\n",
    "#FinalModel.add(modelNew)\n",
    "from keras import regularizers\n",
    "from keras import layers\n"
   ]
  },
  {
   "cell_type": "markdown",
   "metadata": {
    "colab_type": "text",
    "id": "jbgURsGQDR7Q"
   },
   "source": [
    "Lets load the image from mninst to our test and train dataset. Now lets understand the image size into our test and train data. This shows that we have 60,000 images of 28*28 pixel. Test data shows that we have 10000 images of 28*28 pixel"
   ]
  },
  {
   "cell_type": "code",
   "execution_count": 26,
   "metadata": {
    "colab": {
     "autoexec": {
      "startup": false,
      "wait_interval": 0
     },
     "base_uri": "https://localhost:8080/",
     "height": 118
    },
    "colab_type": "code",
    "executionInfo": {
     "elapsed": 1586,
     "status": "ok",
     "timestamp": 1531071217898,
     "user": {
      "displayName": "Amit K",
      "photoUrl": "https://lh3.googleusercontent.com/a/default-user=s128",
      "userId": "110122147172191395538"
     },
     "user_tz": -330
    },
    "id": "wQpUueVIDO1U",
    "outputId": "abce9dcc-236b-478b-e850-283b4f87ac4f"
   },
   "outputs": [
    {
     "name": "stdout",
     "output_type": "stream",
     "text": [
      "Train Data Size: (60000, 28, 28)\n",
      "Train Data Label size: (60000,)\n",
      "Test Data Size: (10000, 28, 28)\n",
      "Test Data Label Size: (10000,)\n"
     ]
    }
   ],
   "source": [
    "# Load pre-shuffled MNIST data into train and test sets\n",
    "(X_train, Y_train),(X_test, Y_test) = mnist.load_data()\n",
    "\n",
    "### \n",
    "print (\"Train Data Size:\", X_train.shape)\n",
    "print (\"Train Data Label size:\",Y_train.shape)\n",
    "\n",
    "## \n",
    "print (\"Test Data Size:\",X_test.shape)\n",
    "print (\"Test Data Label Size:\",Y_test.shape)"
   ]
  },
  {
   "cell_type": "markdown",
   "metadata": {
    "colab_type": "text",
    "id": "GXgjm7DxDV2z"
   },
   "source": [
    "Lets see some image from test and training data set to inderstand the picture size. Picture size is 28 * 28"
   ]
  },
  {
   "cell_type": "code",
   "execution_count": 27,
   "metadata": {
    "colab": {
     "autoexec": {
      "startup": false,
      "wait_interval": 0
     },
     "base_uri": "https://localhost:8080/",
     "height": 364
    },
    "colab_type": "code",
    "executionInfo": {
     "elapsed": 659,
     "status": "ok",
     "timestamp": 1531056598441,
     "user": {
      "displayName": "Amit K",
      "photoUrl": "https://lh3.googleusercontent.com/a/default-user=s128",
      "userId": "110122147172191395538"
     },
     "user_tz": -330
    },
    "id": "gnkUWo1sDYst",
    "outputId": "408bb379-dfc4-4f02-8d10-16abb8cf5b04"
   },
   "outputs": [
    {
     "name": "stdout",
     "output_type": "stream",
     "text": [
      "Label of First Image in Training Set : 7\n"
     ]
    },
    {
     "data": {
      "image/png": "[encoded data removed]",
      "text/plain": [
       "<Figure size 432x288 with 1 Axes>"
      ]
     },
     "metadata": {},
     "output_type": "display_data"
    }
   ],
   "source": [
    "plt.imshow(X_train[15])\n",
    "print(\"Label of First Image in Training Set :\",Y_train[15])"
   ]
  },
  {
   "cell_type": "markdown",
   "metadata": {
    "colab_type": "text",
    "id": "QUMTpgjjDcIW"
   },
   "source": [
    "Lets see image from Training set"
   ]
  },
  {
   "cell_type": "code",
   "execution_count": 28,
   "metadata": {
    "colab": {
     "autoexec": {
      "startup": false,
      "wait_interval": 0
     },
     "base_uri": "https://localhost:8080/",
     "height": 364
    },
    "colab_type": "code",
    "executionInfo": {
     "elapsed": 795,
     "status": "ok",
     "timestamp": 1531056603989,
     "user": {
      "displayName": "Amit K",
      "photoUrl": "https://lh3.googleusercontent.com/a/default-user=s128",
      "userId": "110122147172191395538"
     },
     "user_tz": -330
    },
    "id": "irFGW3J7DiOJ",
    "outputId": "8a55c1ab-cab0-4e7d-c613-6af3473d7ef5"
   },
   "outputs": [
    {
     "name": "stdout",
     "output_type": "stream",
     "text": [
      "Label of First Image in Test Set : 7\n"
     ]
    },
    {
     "data": {
      "image/png": "[encoded data removed]",
      "text/plain": [
       "<Figure size 432x288 with 1 Axes>"
      ]
     },
     "metadata": {},
     "output_type": "display_data"
    }
   ],
   "source": [
    "plt.imshow(X_test[0])\n",
    "print(\"Label of First Image in Test Set :\",Y_test[0])"
   ]
  },
  {
   "cell_type": "markdown",
   "metadata": {
    "colab_type": "text",
    "id": "ThD9Wn36DmSa"
   },
   "source": [
    "Preprocess Input data. Convert the 28x28x1 images to 24x24x1 using numpy resize function. This is to help network to learn into lower resolution image. We are then converting into array."
   ]
  },
  {
   "cell_type": "code",
   "execution_count": 29,
   "metadata": {
    "colab": {
     "autoexec": {
      "startup": false,
      "wait_interval": 0
     },
     "base_uri": "https://localhost:8080/",
     "height": 37
    },
    "colab_type": "code",
    "executionInfo": {
     "elapsed": 1611,
     "status": "ok",
     "timestamp": 1531071232034,
     "user": {
      "displayName": "Amit K",
      "photoUrl": "https://lh3.googleusercontent.com/a/default-user=s128",
      "userId": "110122147172191395538"
     },
     "user_tz": -330
    },
    "id": "7iue-kStDjWu",
    "outputId": "2684a8c6-e6d2-425a-a1a7-d71b58f4d5ca"
   },
   "outputs": [
    {
     "name": "stdout",
     "output_type": "stream",
     "text": [
      "(24, 24, 1)\n",
      "(24, 24, 1)\n"
     ]
    },
    {
     "data": {
      "text/plain": [
       "'\\ndef resize_data(x):\\n    x_scaled = np.zeros((x.shape[0], 24, 24))\\n    for i, img in enumerate(x):\\n        new_image = cv2.resize(img, dsize=(24, 24), interpolation=cv2.INTER_CUBIC)\\n        x_scaled[i] = new_image\\n\\n    return x_scaled\\n\\n# resize train and  test data\\nx_train_24 = resize_data(X_train)\\nx_test_24 = resize_data(X_test)\\n'"
      ]
     },
     "execution_count": 29,
     "metadata": {},
     "output_type": "execute_result"
    }
   ],
   "source": [
    "X_train_24 = []\n",
    "X_test_24 = []\n",
    "\n",
    "\n",
    "for img in X_train:\n",
    "  X_train_24.append(np.resize(img,(24,24,1)))\n",
    "  \n",
    "for img in X_test:\n",
    "  X_test_24.append(np.resize(img,(24,24,1)))\n",
    "\n",
    "#X_test_20 =  X_test.reshape(X_test.shape, 24, 24, 1)\n",
    "\n",
    "X_train_24 = np.array(X_train_24)\n",
    "X_test_24 = np.array(X_test_24)\n",
    "#print(\"Before Resize:\", X_train[0])\n",
    "\n",
    "print(X_train_24[0].shape)\n",
    "print(X_test_24[0].shape)\n",
    "\n",
    "\n",
    "'''\n",
    "def resize_data(x):\n",
    "    x_scaled = np.zeros((x.shape[0], 24, 24))\n",
    "    for i, img in enumerate(x):\n",
    "        new_image = cv2.resize(img, dsize=(24, 24), interpolation=cv2.INTER_CUBIC)\n",
    "        x_scaled[i] = new_image\n",
    "\n",
    "    return x_scaled\n",
    "\n",
    "# resize train and  test data\n",
    "x_train_24 = resize_data(X_train)\n",
    "x_test_24 = resize_data(X_test)\n",
    "'''"
   ]
  },
  {
   "cell_type": "markdown",
   "metadata": {
    "colab_type": "text",
    "id": "9hdAvebkDrGi"
   },
   "source": [
    "Now we will require to convert them into float 32 and then normalise them."
   ]
  },
  {
   "cell_type": "code",
   "execution_count": 30,
   "metadata": {
    "colab": {
     "autoexec": {
      "startup": false,
      "wait_interval": 0
     },
     "base_uri": "https://localhost:8080/",
     "height": 37
    },
    "colab_type": "code",
    "executionInfo": {
     "elapsed": 825,
     "status": "ok",
     "timestamp": 1531071236622,
     "user": {
      "displayName": "Amit K",
      "photoUrl": "https://lh3.googleusercontent.com/a/default-user=s128",
      "userId": "110122147172191395538"
     },
     "user_tz": -330
    },
    "id": "h8vxzsO6Dumb",
    "outputId": "bb1febf1-ed15-44f2-aea4-60091c8bb621"
   },
   "outputs": [],
   "source": [
    "X_train_24 = X_train_24.astype(\"float32\")\n",
    "X_test_24 = X_test_24.astype(\"float32\")\n",
    "X_train_24 = X_train_24/255\n",
    "X_test_24 = X_test_24/255"
   ]
  },
  {
   "cell_type": "markdown",
   "metadata": {
    "colab_type": "text",
    "id": "Zn-yR7I2DxNQ"
   },
   "source": [
    "The y_train and y_test data are not split into 10 distinct class labels, but rather are represented as a single array with the class values."
   ]
  },
  {
   "cell_type": "code",
   "execution_count": 31,
   "metadata": {
    "colab": {
     "autoexec": {
      "startup": false,
      "wait_interval": 0
     },
     "base_uri": "https://localhost:8080/",
     "height": 84
    },
    "colab_type": "code",
    "executionInfo": {
     "elapsed": 585,
     "status": "ok",
     "timestamp": 1531071242231,
     "user": {
      "displayName": "Amit K",
      "photoUrl": "https://lh3.googleusercontent.com/a/default-user=s128",
      "userId": "110122147172191395538"
     },
     "user_tz": -330
    },
    "id": "9Ud3p4fzDzrd",
    "outputId": "ea569e75-d3e7-4420-849b-50fb845639b3"
   },
   "outputs": [
    {
     "name": "stdout",
     "output_type": "stream",
     "text": [
      "Training Data labels Before categorical conversion: (60000,)\n",
      "Test Data labels Before categorical conversion: (10000,)\n",
      "Training Data labels after categorical conversion: (60000, 10)\n",
      "Test Data labels after categorical conversion: (10000, 10)\n"
     ]
    }
   ],
   "source": [
    "print(\"Training Data labels Before categorical conversion:\",Y_train.shape)\n",
    "print(\"Test Data labels Before categorical conversion:\",Y_test.shape)\n",
    "Y_train = np_utils.to_categorical(Y_train, 10)\n",
    "Y_test = np_utils.to_categorical(Y_test, 10)\n",
    "print(\"Training Data labels after categorical conversion:\",Y_train.shape)\n",
    "print(\"Test Data labels after categorical conversion:\",Y_test.shape)"
   ]
  },
  {
   "cell_type": "markdown",
   "metadata": {
    "colab_type": "text",
    "id": "7KWow9_XD2jJ"
   },
   "source": [
    "The input shape parameter should be will be 1 and our input shape as per our earlier resize is (1,24,24)(depth, width, height) of each digit image. Kernel other two parameters correspond to the number of convolution filters to use, the number of rows in each convolution kernel, and the number of columns in each convolution kernel, respectively. *Note: The step size is (1,1) by default. Dropout layer we just added. This is a method for regularizing our model in order to prevent overfitting."
   ]
  },
  {
   "cell_type": "code",
   "execution_count": 32,
   "metadata": {
    "colab": {
     "autoexec": {
      "startup": false,
      "wait_interval": 0
     },
     "base_uri": "https://localhost:8080/",
     "height": 37
    },
    "colab_type": "code",
    "executionInfo": {
     "elapsed": 1179,
     "status": "ok",
     "timestamp": 1531071247114,
     "user": {
      "displayName": "Amit K",
      "photoUrl": "https://lh3.googleusercontent.com/a/default-user=s128",
      "userId": "110122147172191395538"
     },
     "user_tz": -330
    },
    "id": "Yeu3eOnCD6Ju",
    "outputId": "f4bc1a00-dd81-48a7-9299-df8099097953"
   },
   "outputs": [],
   "source": [
    "model = Sequential() # here we are defining the model to be executed in sequential\n",
    "droprate=0.25\n",
    "#convolution 1st layer\n",
    "model.add(Conv2D(32,(3,3), activation='relu', strides=(1, 1), padding='valid', input_shape=(24,24,1)))\n",
    "#model.add(Conv2D(32,(3,1), activation='relu', strides=(1, 1), padding='valid',input_shape=input_24)#(input_24)\n",
    "model.add(BatchNormalization())\n",
    "model.add(Dropout(droprate))#3\n",
    "\n",
    "#convolution 2nd layer\n",
    "model.add(Conv2D(64,(3,3), activation='relu'))\n",
    "model.add(BatchNormalization())\n",
    "model.add(MaxPooling2D())\n",
    "model.add(Dropout(droprate))#3\n",
    "\n",
    "#convolution 3rd layer\n",
    "model.add(Conv2D(128,(3,3), activation='relu'))\n",
    "model.add(BatchNormalization())\n",
    "model.add(MaxPooling2D())\n",
    "model.add(Dropout(droprate))#3\n",
    "\n",
    "#convolution 3rd layer\n",
    "model.add(Conv2D(128,(3,3), activation='relu'))\n",
    "model.add(BatchNormalization())\n",
    "model.add(MaxPooling2D())\n",
    "model.add(Dropout(droprate))#3\n",
    "\n",
    "\n",
    "#Fully connected final layer\n",
    "model.add(Flatten())\n",
    "model.add(Dense(200, activation='relu'))\n",
    "\n",
    "model.add(Dense(10, activation='softmax'))"
   ]
  },
  {
   "cell_type": "markdown",
   "metadata": {},
   "source": [
    "This is implementation of CLR and taken from https://github.com/bckenstler/CLR"
   ]
  },
  {
   "cell_type": "code",
   "execution_count": 33,
   "metadata": {},
   "outputs": [],
   "source": [
    "from keras.callbacks import *\n",
    "\n",
    "class CyclicLR(Callback):\n",
    "    \"\"\"This callback implements a cyclical learning rate policy (CLR).\n",
    "    The method cycles the learning rate between two boundaries with\n",
    "    some constant frequency, as detailed in this paper (https://arxiv.org/abs/1506.01186).\n",
    "    The amplitude of the cycle can be scaled on a per-iteration or \n",
    "    per-cycle basis.\n",
    "    This class has three built-in policies, as put forth in the paper.\n",
    "    \"triangular\":\n",
    "        A basic triangular cycle w/ no amplitude scaling.\n",
    "    \"triangular2\":\n",
    "        A basic triangular cycle that scales initial amplitude by half each cycle.\n",
    "    \"exp_range\":\n",
    "        A cycle that scales initial amplitude by gamma**(cycle iterations) at each \n",
    "        cycle iteration.\n",
    "    For more detail, please see paper.\n",
    "    \n",
    "    # Example\n",
    "        ```python\n",
    "            clr = CyclicLR(base_lr=0.001, max_lr=0.006,\n",
    "                                step_size=2000., mode='triangular')\n",
    "            model.fit(X_train, Y_train, callbacks=[clr])\n",
    "        ```\n",
    "    \n",
    "    Class also supports custom scaling functions:\n",
    "        ```python\n",
    "            clr_fn = lambda x: 0.5*(1+np.sin(x*np.pi/2.))\n",
    "            clr = CyclicLR(base_lr=0.001, max_lr=0.006,\n",
    "                                step_size=2000., scale_fn=clr_fn,\n",
    "                                scale_mode='cycle')\n",
    "            model.fit(X_train, Y_train, callbacks=[clr])\n",
    "        ```    \n",
    "    # Arguments\n",
    "        base_lr: initial learning rate which is the\n",
    "            lower boundary in the cycle.\n",
    "        max_lr: upper boundary in the cycle. Functionally,\n",
    "            it defines the cycle amplitude (max_lr - base_lr).\n",
    "            The lr at any cycle is the sum of base_lr\n",
    "            and some scaling of the amplitude; therefore \n",
    "            max_lr may not actually be reached depending on\n",
    "            scaling function.\n",
    "        step_size: number of training iterations per\n",
    "            half cycle. Authors suggest setting step_size\n",
    "            2-8 x training iterations in epoch.\n",
    "        mode: one of {triangular, triangular2, exp_range}.\n",
    "            Default 'triangular'.\n",
    "            Values correspond to policies detailed above.\n",
    "            If scale_fn is not None, this argument is ignored.\n",
    "        gamma: constant in 'exp_range' scaling function:\n",
    "            gamma**(cycle iterations)\n",
    "        scale_fn: Custom scaling policy defined by a single\n",
    "            argument lambda function, where \n",
    "            0 <= scale_fn(x) <= 1 for all x >= 0.\n",
    "            mode paramater is ignored \n",
    "        scale_mode: {'cycle', 'iterations'}.\n",
    "            Defines whether scale_fn is evaluated on \n",
    "            cycle number or cycle iterations (training\n",
    "            iterations since start of cycle). Default is 'cycle'.\n",
    "    \"\"\"\n",
    "\n",
    "    def __init__(self, base_lr=0.001, max_lr=0.006, step_size=2000., mode='triangular',\n",
    "                 gamma=1., scale_fn=None, scale_mode='cycle'):\n",
    "        super(CyclicLR, self).__init__()\n",
    "\n",
    "        self.base_lr = base_lr\n",
    "        self.max_lr = max_lr\n",
    "        self.step_size = step_size\n",
    "        self.mode = mode\n",
    "        self.gamma = gamma\n",
    "        if scale_fn == None:\n",
    "            if self.mode == 'triangular':\n",
    "                self.scale_fn = lambda x: 1.\n",
    "                self.scale_mode = 'cycle'\n",
    "            elif self.mode == 'triangular2':\n",
    "                self.scale_fn = lambda x: 1/(2.**(x-1))\n",
    "                self.scale_mode = 'cycle'\n",
    "            elif self.mode == 'exp_range':\n",
    "                self.scale_fn = lambda x: gamma**(x)\n",
    "                self.scale_mode = 'iterations'\n",
    "        else:\n",
    "            self.scale_fn = scale_fn\n",
    "            self.scale_mode = scale_mode\n",
    "        self.clr_iterations = 0.\n",
    "        self.trn_iterations = 0.\n",
    "        self.history = {}\n",
    "\n",
    "        self._reset()\n",
    "\n",
    "    def _reset(self, new_base_lr=None, new_max_lr=None,\n",
    "               new_step_size=None):\n",
    "        \"\"\"Resets cycle iterations.\n",
    "        Optional boundary/step size adjustment.\n",
    "        \"\"\"\n",
    "        if new_base_lr != None:\n",
    "            self.base_lr = new_base_lr\n",
    "        if new_max_lr != None:\n",
    "            self.max_lr = new_max_lr\n",
    "        if new_step_size != None:\n",
    "            self.step_size = new_step_size\n",
    "        self.clr_iterations = 0.\n",
    "        \n",
    "    def clr(self):\n",
    "        cycle = np.floor(1+self.clr_iterations/(2*self.step_size))\n",
    "        x = np.abs(self.clr_iterations/self.step_size - 2*cycle + 1)\n",
    "        if self.scale_mode == 'cycle':\n",
    "            return self.base_lr + (self.max_lr-self.base_lr)*np.maximum(0, (1-x))*self.scale_fn(cycle)\n",
    "        else:\n",
    "            return self.base_lr + (self.max_lr-self.base_lr)*np.maximum(0, (1-x))*self.scale_fn(self.clr_iterations)\n",
    "        \n",
    "    def on_train_begin(self, logs={}):\n",
    "        logs = logs or {}\n",
    "\n",
    "        if self.clr_iterations == 0:\n",
    "            K.set_value(self.model.optimizer.lr, self.base_lr)\n",
    "        else:\n",
    "            K.set_value(self.model.optimizer.lr, self.clr())        \n",
    "            \n",
    "    def on_batch_end(self, epoch, logs=None):\n",
    "        \n",
    "        logs = logs or {}\n",
    "        self.trn_iterations += 1\n",
    "        self.clr_iterations += 1\n",
    "\n",
    "        self.history.setdefault('lr', []).append(K.get_value(self.model.optimizer.lr))\n",
    "        self.history.setdefault('iterations', []).append(self.trn_iterations)\n",
    "\n",
    "        for k, v in logs.items():\n",
    "            self.history.setdefault(k, []).append(v)\n",
    "        \n",
    "        K.set_value(self.model.optimizer.lr, self.clr())"
   ]
  },
  {
   "cell_type": "markdown",
   "metadata": {
    "colab_type": "text",
    "id": "pD1pRpxzD-Ia"
   },
   "source": [
    "Define the callback"
   ]
  },
  {
   "cell_type": "code",
   "execution_count": 34,
   "metadata": {
    "colab": {
     "autoexec": {
      "startup": false,
      "wait_interval": 0
     },
     "base_uri": "https://localhost:8080/",
     "height": 37
    },
    "colab_type": "code",
    "executionInfo": {
     "elapsed": 627,
     "status": "ok",
     "timestamp": 1531071250712,
     "user": {
      "displayName": "Amit K",
      "photoUrl": "https://lh3.googleusercontent.com/a/default-user=s128",
      "userId": "110122147172191395538"
     },
     "user_tz": -330
    },
    "id": "Yl2BphiDECP6",
    "outputId": "00d0c535-abbe-4cf8-c3a8-57f750349658"
   },
   "outputs": [],
   "source": [
    "# prepare callbacks\n",
    "# prepare callbacks\n",
    "# define path to save model\n",
    "#git clone https://github.com/jakevdp/sklearn_scipy2013.git\n",
    "\n",
    "model_path = './mninst_cnn_Base_Iter.hdf5'\n",
    "\n",
    "clr = CyclicLR(base_lr=0.001, max_lr=0.006,\n",
    "                        step_size=2000., mode='triangular2')\n",
    "\n",
    "#callbacks = [\n",
    " #   EarlyStopping(\n",
    "  #      monitor='val_acc', \n",
    "   #     patience=10,\n",
    "    #    mode='max',\n",
    "     #   clr,\n",
    "      #  verbose=1),\n",
    "    #ModelCheckpoint(model_path,\n",
    "     #   monitor='val_acc', \n",
    "      #  save_best_only=True, \n",
    "       # mode='max',\n",
    "        #verbose=0)\n",
    "#]\n",
    "reduce_lr = ReduceLROnPlateau(monitor='val_loss', factor=0.2,\n",
    "                              patience=5, min_lr=0.001)"
   ]
  },
  {
   "cell_type": "code",
   "execution_count": 35,
   "metadata": {
    "colab": {
     "autoexec": {
      "startup": false,
      "wait_interval": 0
     },
     "base_uri": "https://localhost:8080/",
     "height": 739
    },
    "colab_type": "code",
    "executionInfo": {
     "elapsed": 623,
     "status": "ok",
     "timestamp": 1531071254149,
     "user": {
      "displayName": "Amit K",
      "photoUrl": "https://lh3.googleusercontent.com/a/default-user=s128",
      "userId": "110122147172191395538"
     },
     "user_tz": -330
    },
    "id": "K7mDc940EDHW",
    "outputId": "922d6128-535c-4650-c7ca-9571f9a7f27d"
   },
   "outputs": [
    {
     "name": "stdout",
     "output_type": "stream",
     "text": [
      "_________________________________________________________________\n",
      "Layer (type)                 Output Shape              Param #   \n",
      "=================================================================\n",
      "conv2d_10 (Conv2D)           (None, 22, 22, 32)        320       \n",
      "_________________________________________________________________\n",
      "batch_normalization_10 (Batc (None, 22, 22, 32)        128       \n",
      "_________________________________________________________________\n",
      "dropout_10 (Dropout)         (None, 22, 22, 32)        0         \n",
      "_________________________________________________________________\n",
      "conv2d_11 (Conv2D)           (None, 20, 20, 64)        18496     \n",
      "_________________________________________________________________\n",
      "batch_normalization_11 (Batc (None, 20, 20, 64)        256       \n",
      "_________________________________________________________________\n",
      "max_pooling2d_7 (MaxPooling2 (None, 10, 10, 64)        0         \n",
      "_________________________________________________________________\n",
      "dropout_11 (Dropout)         (None, 10, 10, 64)        0         \n",
      "_________________________________________________________________\n",
      "conv2d_12 (Conv2D)           (None, 8, 8, 128)         73856     \n",
      "_________________________________________________________________\n",
      "batch_normalization_12 (Batc (None, 8, 8, 128)         512       \n",
      "_________________________________________________________________\n",
      "max_pooling2d_8 (MaxPooling2 (None, 4, 4, 128)         0         \n",
      "_________________________________________________________________\n",
      "dropout_12 (Dropout)         (None, 4, 4, 128)         0         \n",
      "_________________________________________________________________\n",
      "conv2d_13 (Conv2D)           (None, 2, 2, 128)         147584    \n",
      "_________________________________________________________________\n",
      "batch_normalization_13 (Batc (None, 2, 2, 128)         512       \n",
      "_________________________________________________________________\n",
      "max_pooling2d_9 (MaxPooling2 (None, 1, 1, 128)         0         \n",
      "_________________________________________________________________\n",
      "dropout_13 (Dropout)         (None, 1, 1, 128)         0         \n",
      "_________________________________________________________________\n",
      "flatten_3 (Flatten)          (None, 128)               0         \n",
      "_________________________________________________________________\n",
      "dense_5 (Dense)              (None, 200)               25800     \n",
      "_________________________________________________________________\n",
      "dense_6 (Dense)              (None, 10)                2010      \n",
      "=================================================================\n",
      "Total params: 269,474\n",
      "Trainable params: 268,770\n",
      "Non-trainable params: 704\n",
      "_________________________________________________________________\n"
     ]
    }
   ],
   "source": [
    "model.compile(loss='categorical_crossentropy',\n",
    "              optimizer= 'adam',\n",
    "              metrics=['accuracy'])\n",
    "model.summary()"
   ]
  },
  {
   "cell_type": "code",
   "execution_count": 36,
   "metadata": {
    "colab": {
     "autoexec": {
      "startup": false,
      "wait_interval": 0
     },
     "base_uri": "https://localhost:8080/",
     "height": 121
    },
    "colab_type": "code",
    "id": "OSqGH4fmEFn0",
    "outputId": "30286f8b-f564-42c6-c9b5-a0a21514045a"
   },
   "outputs": [
    {
     "name": "stdout",
     "output_type": "stream",
     "text": [
      "Train on 60000 samples, validate on 10000 samples\n",
      "Epoch 1/15\n",
      "60000/60000 [==============================] - 926s 15ms/step - loss: 0.3052 - acc: 0.9045 - val_loss: 0.1250 - val_acc: 0.9598\n",
      "Epoch 2/15\n",
      "60000/60000 [==============================] - 820s 14ms/step - loss: 0.1431 - acc: 0.9561 - val_loss: 0.0829 - val_acc: 0.9742\n",
      "Epoch 3/15\n",
      "60000/60000 [==============================] - 812s 14ms/step - loss: 0.1120 - acc: 0.9651 - val_loss: 0.0677 - val_acc: 0.9779\n",
      "Epoch 4/15\n",
      "60000/60000 [==============================] - 951s 16ms/step - loss: 0.0940 - acc: 0.9713 - val_loss: 0.0637 - val_acc: 0.9810\n",
      "Epoch 5/15\n",
      "60000/60000 [==============================] - 932s 16ms/step - loss: 0.0837 - acc: 0.9742 - val_loss: 0.0537 - val_acc: 0.9831\n",
      "Epoch 6/15\n",
      "60000/60000 [==============================] - 955s 16ms/step - loss: 0.0732 - acc: 0.9769 - val_loss: 0.0523 - val_acc: 0.9837\n",
      "Epoch 7/15\n",
      "60000/60000 [==============================] - 981s 16ms/step - loss: 0.0689 - acc: 0.9787 - val_loss: 0.0495 - val_acc: 0.9855\n",
      "Epoch 8/15\n",
      "60000/60000 [==============================] - 918s 15ms/step - loss: 0.0619 - acc: 0.9809 - val_loss: 0.0502 - val_acc: 0.9850\n",
      "Epoch 9/15\n",
      "60000/60000 [==============================] - 851s 14ms/step - loss: 0.0557 - acc: 0.9818 - val_loss: 0.0451 - val_acc: 0.9859\n",
      "Epoch 10/15\n",
      "60000/60000 [==============================] - 804s 13ms/step - loss: 0.0545 - acc: 0.9831 - val_loss: 0.0507 - val_acc: 0.9839\n",
      "Epoch 11/15\n",
      "60000/60000 [==============================] - 906s 15ms/step - loss: 0.0505 - acc: 0.9837 - val_loss: 0.0469 - val_acc: 0.9865\n",
      "Epoch 12/15\n",
      "60000/60000 [==============================] - 887s 15ms/step - loss: 0.0461 - acc: 0.9849 - val_loss: 0.0555 - val_acc: 0.9852\n",
      "Epoch 13/15\n",
      "60000/60000 [==============================] - 826s 14ms/step - loss: 0.0463 - acc: 0.9857 - val_loss: 0.0466 - val_acc: 0.9861\n",
      "Epoch 14/15\n",
      "60000/60000 [==============================] - 811s 14ms/step - loss: 0.0432 - acc: 0.9862 - val_loss: 0.0511 - val_acc: 0.9858\n",
      "Epoch 15/15\n",
      "60000/60000 [==============================] - 824s 14ms/step - loss: 0.0386 - acc: 0.9874 - val_loss: 0.0506 - val_acc: 0.9865\n"
     ]
    },
    {
     "data": {
      "text/plain": [
       "<keras.callbacks.History at 0x22a8e09a198>"
      ]
     },
     "execution_count": 36,
     "metadata": {},
     "output_type": "execute_result"
    }
   ],
   "source": [
    "#aa model.fit(x=X_train_20,y=Y_train, batch_size=32,epochs=15,verbose=1, validation_data=(X_test_20, Y_test),callbacks=callbacks)\n",
    "\n",
    "model.fit(x=X_train_24,y=Y_train, batch_size=32,epochs=15,verbose=1, validation_data=(X_test_24, Y_test),callbacks=[reduce_lr])\n"
   ]
  },
  {
   "cell_type": "code",
   "execution_count": 37,
   "metadata": {
    "colab": {
     "autoexec": {
      "startup": false,
      "wait_interval": 0
     }
    },
    "colab_type": "code",
    "id": "v2eNhmwGEI6t"
   },
   "outputs": [],
   "source": [
    "#model.fit(x=X_train_20,y=Y_train, batch_size=32,epochs=15,verbose=1, validation_data=(X_test_20, Y_test),callbacks=callbacks)"
   ]
  },
  {
   "cell_type": "code",
   "execution_count": 38,
   "metadata": {
    "colab": {
     "autoexec": {
      "startup": false,
      "wait_interval": 0
     },
     "base_uri": "https://localhost:8080/",
     "height": 229
    },
    "colab_type": "code",
    "executionInfo": {
     "elapsed": 719,
     "status": "error",
     "timestamp": 1531071201811,
     "user": {
      "displayName": "Amit K",
      "photoUrl": "https://lh3.googleusercontent.com/a/default-user=s128",
      "userId": "110122147172191395538"
     },
     "user_tz": -330
    },
    "id": "0pZKLCSJEOGY",
    "outputId": "2e5ef5f6-444b-499a-b70b-8a52bef44343"
   },
   "outputs": [
    {
     "name": "stdout",
     "output_type": "stream",
     "text": [
      "No of Layers in Models: 18\n",
      "10000/10000 [==============================] - 41s 4ms/step\n",
      "Test loss: 0.05059661450082931\n",
      "Test accuracy: 0.9865\n"
     ]
    },
    {
     "data": {
      "text/plain": [
       "<matplotlib.image.AxesImage at 0x22a80801400>"
      ]
     },
     "execution_count": 38,
     "metadata": {},
     "output_type": "execute_result"
    },
    {
     "data": {
      "image/png": "[encoded data removed]",
      "text/plain": [
       "<Figure size 432x288 with 1 Axes>"
      ]
     },
     "metadata": {},
     "output_type": "display_data"
    }
   ],
   "source": [
    "print(\"No of Layers in Models:\",len(model.layers))  # \"2\")\n",
    "score = model.evaluate(x= X_test_24, y=Y_test,verbose=1)\n",
    "print('Test loss:', score[0])\n",
    "print('Test accuracy:', score[1])\n",
    "# manual test\n",
    "Y_pred = model.predict(X_test_24)\n",
    "#print(Y_pred[:9])\n",
    "#print(Y_test[:9])\n",
    "plt.imshow(Y_pred[:9])\n",
    "plt.imshow(Y_test[:9])"
   ]
  },
  {
   "cell_type": "code",
   "execution_count": 39,
   "metadata": {
    "colab": {
     "autoexec": {
      "startup": false,
      "wait_interval": 0
     }
    },
    "colab_type": "code",
    "id": "7AsaG-GWEQpT"
   },
   "outputs": [],
   "source": [
    "model.save_weights(\"mninst_cnn_1_IterFinal.hdf5\")"
   ]
  },
  {
   "cell_type": "code",
   "execution_count": 40,
   "metadata": {},
   "outputs": [],
   "source": [
    "model.save('my_model.h5')  # creates a HDF5 file 'my_model.h5'"
   ]
  },
  {
   "cell_type": "code",
   "execution_count": 41,
   "metadata": {},
   "outputs": [
    {
     "name": "stdout",
     "output_type": "stream",
     "text": [
      "No of Layers in Models: 18\n"
     ]
    }
   ],
   "source": [
    "print(\"No of Layers in Models:\",len(model.layers))  "
   ]
  },
  {
   "cell_type": "markdown",
   "metadata": {},
   "source": [
    "#To set the first 16 layers to non-trainable (weights will not be updated). This is to ensure we only update the weights of\n",
    "#fcn one\n",
    "\n",
    "for layer in model.layers[:11]:\n",
    "      layer.trainable = False"
   ]
  },
  {
   "cell_type": "markdown",
   "metadata": {},
   "source": [
    "##compile the model again \n",
    "model.compile(loss='categorical_crossentropy',\n",
    "              optimizer= 'adam',\n",
    "              metrics=['accuracy'])\n",
    "model.summary()"
   ]
  },
  {
   "cell_type": "markdown",
   "metadata": {
    "colab_type": "text",
    "id": "_QdIW-lLEfLB"
   },
   "source": [
    "In Order to run the model on a different resolution image, the number of parameters or the weights on the last layer of model differs. So, we pop the last layers in order to give space for a higher resolution image. Therefore, this makes the architecture slightly different from the architecture for 24x24."
   ]
  },
  {
   "cell_type": "code",
   "execution_count": 46,
   "metadata": {
    "colab": {
     "autoexec": {
      "startup": false,
      "wait_interval": 0
     }
    },
    "colab_type": "code",
    "id": "c-XKIuYhEiS9"
   },
   "outputs": [
    {
     "name": "stdout",
     "output_type": "stream",
     "text": [
      "No of Layers in Models: 18\n"
     ]
    }
   ],
   "source": [
    "#removing the last two layers so that we can modify the model to accomodate original images\n",
    "\n",
    "print(\"No of Layers in Models:\",len(model.layers))  \n",
    "\n"
   ]
  },
  {
   "cell_type": "markdown",
   "metadata": {},
   "source": [
    "model.layers.pop()\n",
    "model.layers.pop()\n",
    "model.summary()\n",
    "model.compile(loss='categorical_crossentropy',\n",
    "              optimizer= 'adam',\n",
    "              metrics=['accuracy'])\n",
    "model.summary()"
   ]
  },
  {
   "cell_type": "markdown",
   "metadata": {},
   "source": [
    "print(\"No of Layers in Models After popping twice:\",len(model.layers)) "
   ]
  },
  {
   "cell_type": "markdown",
   "metadata": {
    "colab_type": "text",
    "id": "SHpYEIY0EpP_"
   },
   "source": [
    "**After** popping out we save the model weights. Here, the weights for last layers are also popped out. Therefore, we only store weights except the popped out layers"
   ]
  },
  {
   "cell_type": "markdown",
   "metadata": {
    "colab": {
     "autoexec": {
      "startup": false,
      "wait_interval": 0
     }
    },
    "colab_type": "code",
    "id": "Wafrs9nCEqWo"
   },
   "source": [
    "#save the weights from the model above\n",
    "model.save_weights(\"weights_after_pop.hdf5\")\n",
    "print(\"Saved model to disk\") "
   ]
  },
  {
   "cell_type": "code",
   "execution_count": 134,
   "metadata": {
    "colab": {
     "autoexec": {
      "startup": false,
      "wait_interval": 0
     }
    },
    "colab_type": "code",
    "id": "-Q4cTXEMEsZc"
   },
   "outputs": [],
   "source": [
    "\n",
    "modelRevised = Sequential() # here we are defining the model to be executed in sequential\n",
    "droprate=0.25\n",
    "#convolution 1st layer\n",
    "modelRevised.add(Conv2D(32,(3,3), activation='relu', strides=(1, 1), padding='valid', input_shape=(28,28,1)))\n",
    "#model.add(Conv2D(32,(3,1), activation='relu', strides=(1, 1), padding='valid',input_shape=input_24)#(input_24)\n",
    "modelRevised.add(BatchNormalization())\n",
    "modelRevised.add(Dropout(droprate))#3\n",
    "\n",
    "#convolution 2nd layer\n",
    "modelRevised.add(Conv2D(64,(3,3), activation='relu'))\n",
    "modelRevised.add(BatchNormalization())\n",
    "modelRevised.add(MaxPooling2D())\n",
    "modelRevised.add(Dropout(droprate))#3\n",
    "\n",
    "#convolution 3rd layer\n",
    "modelRevised.add(Conv2D(128,(3,3), activation='relu'))\n",
    "modelRevised.add(BatchNormalization())\n",
    "modelRevised.add(MaxPooling2D())\n",
    "modelRevised.add(Dropout(droprate))#3\n",
    "\n",
    "#convolution 3rd layer\n",
    "modelRevised.add(Conv2D(128,(3,3), activation='relu'))\n",
    "modelRevised.add(BatchNormalization())\n",
    "modelRevised.add(MaxPooling2D())\n",
    "modelRevised.add(Dropout(droprate))#3\n",
    "\n",
    "\n",
    "#Fully connected final layer\n",
    "modelRevised.add(Flatten())\n",
    "modelRevised.add(Dense(200, activation='relu'))\n",
    "\n",
    "modelRevised.add(Dense(10, activation='softmax'))"
   ]
  },
  {
   "cell_type": "code",
   "execution_count": 135,
   "metadata": {},
   "outputs": [],
   "source": [
    "modelRevised.load_weights('mninst_cnn_1_IterFinal.hdf5')\n"
   ]
  },
  {
   "cell_type": "code",
   "execution_count": 136,
   "metadata": {},
   "outputs": [
    {
     "name": "stdout",
     "output_type": "stream",
     "text": [
      "_________________________________________________________________\n",
      "Layer (type)                 Output Shape              Param #   \n",
      "=================================================================\n",
      "conv2d_54 (Conv2D)           (None, 26, 26, 32)        320       \n",
      "_________________________________________________________________\n",
      "batch_normalization_62 (Batc (None, 26, 26, 32)        128       \n",
      "_________________________________________________________________\n",
      "dropout_71 (Dropout)         (None, 26, 26, 32)        0         \n",
      "_________________________________________________________________\n",
      "conv2d_55 (Conv2D)           (None, 24, 24, 64)        18496     \n",
      "_________________________________________________________________\n",
      "batch_normalization_63 (Batc (None, 24, 24, 64)        256       \n",
      "_________________________________________________________________\n",
      "max_pooling2d_39 (MaxPooling (None, 12, 12, 64)        0         \n",
      "_________________________________________________________________\n",
      "dropout_72 (Dropout)         (None, 12, 12, 64)        0         \n",
      "_________________________________________________________________\n",
      "conv2d_56 (Conv2D)           (None, 10, 10, 128)       73856     \n",
      "_________________________________________________________________\n",
      "batch_normalization_64 (Batc (None, 10, 10, 128)       512       \n",
      "_________________________________________________________________\n",
      "max_pooling2d_40 (MaxPooling (None, 5, 5, 128)         0         \n",
      "_________________________________________________________________\n",
      "dropout_73 (Dropout)         (None, 5, 5, 128)         0         \n",
      "_________________________________________________________________\n",
      "conv2d_57 (Conv2D)           (None, 3, 3, 128)         147584    \n",
      "_________________________________________________________________\n",
      "batch_normalization_65 (Batc (None, 3, 3, 128)         512       \n",
      "_________________________________________________________________\n",
      "max_pooling2d_41 (MaxPooling (None, 1, 1, 128)         0         \n",
      "_________________________________________________________________\n",
      "dropout_74 (Dropout)         (None, 1, 1, 128)         0         \n",
      "_________________________________________________________________\n",
      "flatten_13 (Flatten)         (None, 128)               0         \n",
      "_________________________________________________________________\n",
      "dense_52 (Dense)             (None, 200)               25800     \n",
      "_________________________________________________________________\n",
      "dense_53 (Dense)             (None, 10)                2010      \n",
      "=================================================================\n",
      "Total params: 269,474\n",
      "Trainable params: 268,770\n",
      "Non-trainable params: 704\n",
      "_________________________________________________________________\n"
     ]
    }
   ],
   "source": [
    "modelRevised.summary()"
   ]
  },
  {
   "cell_type": "markdown",
   "metadata": {
    "colab": {
     "autoexec": {
      "startup": false,
      "wait_interval": 0
     }
    },
    "colab_type": "code",
    "id": "3aDO3HekEvvp"
   },
   "source": [
    "modelRevised.compile(loss='categorical_crossentropy',\n",
    "              optimizer=Adam(),\n",
    "             metrics=['accuracy'])\n",
    "modelRevised.summary()"
   ]
  },
  {
   "cell_type": "markdown",
   "metadata": {},
   "source": [
    "Following workaround approach has been taken as per https://github.com/keras-team/keras/issues/2371 since model.pop is not removing last layer."
   ]
  },
  {
   "cell_type": "markdown",
   "metadata": {},
   "source": [
    "new_model.summary()"
   ]
  },
  {
   "cell_type": "code",
   "execution_count": 137,
   "metadata": {},
   "outputs": [],
   "source": [
    "#inp = modelRevised.input\n",
    "#out = modelRevised.layers[-3].output\n",
    "#model2 = Sequential()\n",
    "#modelNew = Model(inp, out)  # create a new model which doesn't have the last two layers in VGG16\n",
    "#modelNew = Model(inp,out)  # create a new model which doesn't have the last two layers and also skipped the first layer as we have different input\n",
    "\n",
    "#modelNew.summary()"
   ]
  },
  {
   "cell_type": "code",
   "execution_count": 138,
   "metadata": {},
   "outputs": [
    {
     "name": "stdout",
     "output_type": "stream",
     "text": [
      "_________________________________________________________________\n",
      "Layer (type)                 Output Shape              Param #   \n",
      "=================================================================\n",
      "conv2d_54 (Conv2D)           (None, 26, 26, 32)        320       \n",
      "_________________________________________________________________\n",
      "batch_normalization_62 (Batc (None, 26, 26, 32)        128       \n",
      "_________________________________________________________________\n",
      "dropout_71 (Dropout)         (None, 26, 26, 32)        0         \n",
      "_________________________________________________________________\n",
      "conv2d_55 (Conv2D)           (None, 24, 24, 64)        18496     \n",
      "_________________________________________________________________\n",
      "batch_normalization_63 (Batc (None, 24, 24, 64)        256       \n",
      "_________________________________________________________________\n",
      "max_pooling2d_39 (MaxPooling (None, 12, 12, 64)        0         \n",
      "_________________________________________________________________\n",
      "dropout_72 (Dropout)         (None, 12, 12, 64)        0         \n",
      "_________________________________________________________________\n",
      "conv2d_56 (Conv2D)           (None, 10, 10, 128)       73856     \n",
      "_________________________________________________________________\n",
      "batch_normalization_64 (Batc (None, 10, 10, 128)       512       \n",
      "_________________________________________________________________\n",
      "max_pooling2d_40 (MaxPooling (None, 5, 5, 128)         0         \n",
      "_________________________________________________________________\n",
      "dropout_73 (Dropout)         (None, 5, 5, 128)         0         \n",
      "_________________________________________________________________\n",
      "conv2d_57 (Conv2D)           (None, 3, 3, 128)         147584    \n",
      "_________________________________________________________________\n",
      "batch_normalization_65 (Batc (None, 3, 3, 128)         512       \n",
      "_________________________________________________________________\n",
      "max_pooling2d_41 (MaxPooling (None, 1, 1, 128)         0         \n",
      "_________________________________________________________________\n",
      "dropout_74 (Dropout)         (None, 1, 1, 128)         0         \n",
      "_________________________________________________________________\n",
      "flatten_13 (Flatten)         (None, 128)               0         \n",
      "_________________________________________________________________\n",
      "dense_52 (Dense)             (None, 200)               25800     \n",
      "_________________________________________________________________\n",
      "dense_53 (Dense)             (None, 10)                2010      \n",
      "=================================================================\n",
      "Total params: 269,474\n",
      "Trainable params: 268,770\n",
      "Non-trainable params: 704\n",
      "_________________________________________________________________\n"
     ]
    }
   ],
   "source": [
    "modelRevised.summary()\n"
   ]
  },
  {
   "cell_type": "code",
   "execution_count": 139,
   "metadata": {},
   "outputs": [
    {
     "name": "stdout",
     "output_type": "stream",
     "text": [
      "_________________________________________________________________\n",
      "Layer (type)                 Output Shape              Param #   \n",
      "=================================================================\n",
      "conv2d_54 (Conv2D)           (None, 26, 26, 32)        320       \n",
      "_________________________________________________________________\n",
      "batch_normalization_62 (Batc (None, 26, 26, 32)        128       \n",
      "_________________________________________________________________\n",
      "dropout_71 (Dropout)         (None, 26, 26, 32)        0         \n",
      "_________________________________________________________________\n",
      "conv2d_55 (Conv2D)           (None, 24, 24, 64)        18496     \n",
      "_________________________________________________________________\n",
      "batch_normalization_63 (Batc (None, 24, 24, 64)        256       \n",
      "_________________________________________________________________\n",
      "max_pooling2d_39 (MaxPooling (None, 12, 12, 64)        0         \n",
      "_________________________________________________________________\n",
      "dropout_72 (Dropout)         (None, 12, 12, 64)        0         \n",
      "_________________________________________________________________\n",
      "conv2d_56 (Conv2D)           (None, 10, 10, 128)       73856     \n",
      "_________________________________________________________________\n",
      "batch_normalization_64 (Batc (None, 10, 10, 128)       512       \n",
      "_________________________________________________________________\n",
      "max_pooling2d_40 (MaxPooling (None, 5, 5, 128)         0         \n",
      "_________________________________________________________________\n",
      "dropout_73 (Dropout)         (None, 5, 5, 128)         0         \n",
      "_________________________________________________________________\n",
      "conv2d_57 (Conv2D)           (None, 3, 3, 128)         147584    \n",
      "_________________________________________________________________\n",
      "batch_normalization_65 (Batc (None, 3, 3, 128)         512       \n",
      "_________________________________________________________________\n",
      "max_pooling2d_41 (MaxPooling (None, 1, 1, 128)         0         \n",
      "_________________________________________________________________\n",
      "dropout_74 (Dropout)         (None, 1, 1, 128)         0         \n",
      "_________________________________________________________________\n",
      "flatten_13 (Flatten)         (None, 128)               0         \n",
      "=================================================================\n",
      "Total params: 241,664\n",
      "Trainable params: 240,960\n",
      "Non-trainable params: 704\n",
      "_________________________________________________________________\n"
     ]
    }
   ],
   "source": [
    "modelRevised.pop()  ## removeing last two dense layer \n",
    "modelRevised.pop()\n",
    "modelRevised.summary()\n"
   ]
  },
  {
   "cell_type": "code",
   "execution_count": 140,
   "metadata": {},
   "outputs": [],
   "source": [
    "# Add fully connected layer with a ReLU activation function and L2 regularization\n",
    "modelRevised.add(layers.Dense(units=240, \n",
    "                            kernel_regularizer=regularizers.l2(0.05),\n",
    "                            activation='relu'))\n",
    "\n",
    "modelRevised.add(BatchNormalization())\n",
    "modelRevised.add(Dropout(0.5))#3\n",
    "\n",
    "#Fully connected last  layer\n",
    "#fully connected last layer\n",
    "#FinalModel.add(Dense(100, activation='relu'),kernel_regularizer=regularizers.l2(0.05),activity_regularizer=regularizers.l1(0.05))\n",
    "modelRevised.add(layers.Dense(units=100, \n",
    "                            activation='relu'))\n",
    "modelRevised.add(Dropout(0.5))#3\n",
    "\n",
    "#FinalModel.add(Dense(60, activation='relu'))\n",
    "\n",
    "\n",
    "modelRevised.add(Dense(10, activation='softmax'))"
   ]
  },
  {
   "cell_type": "code",
   "execution_count": 141,
   "metadata": {},
   "outputs": [],
   "source": [
    "#To set the first 16 layers to non-trainable (weights will not be updated). This is to ensure we only update the weights of\n",
    "#fcn one\n",
    "\n",
    "for layer in modelRevised.layers[2:10]:\n",
    "      layer.trainable = False"
   ]
  },
  {
   "cell_type": "code",
   "execution_count": 142,
   "metadata": {},
   "outputs": [
    {
     "name": "stdout",
     "output_type": "stream",
     "text": [
      "_________________________________________________________________\n",
      "Layer (type)                 Output Shape              Param #   \n",
      "=================================================================\n",
      "conv2d_54 (Conv2D)           (None, 26, 26, 32)        320       \n",
      "_________________________________________________________________\n",
      "batch_normalization_62 (Batc (None, 26, 26, 32)        128       \n",
      "_________________________________________________________________\n",
      "dropout_71 (Dropout)         (None, 26, 26, 32)        0         \n",
      "_________________________________________________________________\n",
      "conv2d_55 (Conv2D)           (None, 24, 24, 64)        18496     \n",
      "_________________________________________________________________\n",
      "batch_normalization_63 (Batc (None, 24, 24, 64)        256       \n",
      "_________________________________________________________________\n",
      "max_pooling2d_39 (MaxPooling (None, 12, 12, 64)        0         \n",
      "_________________________________________________________________\n",
      "dropout_72 (Dropout)         (None, 12, 12, 64)        0         \n",
      "_________________________________________________________________\n",
      "conv2d_56 (Conv2D)           (None, 10, 10, 128)       73856     \n",
      "_________________________________________________________________\n",
      "batch_normalization_64 (Batc (None, 10, 10, 128)       512       \n",
      "_________________________________________________________________\n",
      "max_pooling2d_40 (MaxPooling (None, 5, 5, 128)         0         \n",
      "_________________________________________________________________\n",
      "dropout_73 (Dropout)         (None, 5, 5, 128)         0         \n",
      "_________________________________________________________________\n",
      "conv2d_57 (Conv2D)           (None, 3, 3, 128)         147584    \n",
      "_________________________________________________________________\n",
      "batch_normalization_65 (Batc (None, 3, 3, 128)         512       \n",
      "_________________________________________________________________\n",
      "max_pooling2d_41 (MaxPooling (None, 1, 1, 128)         0         \n",
      "_________________________________________________________________\n",
      "dropout_74 (Dropout)         (None, 1, 1, 128)         0         \n",
      "_________________________________________________________________\n",
      "flatten_13 (Flatten)         (None, 128)               0         \n",
      "_________________________________________________________________\n",
      "dense_54 (Dense)             (None, 240)               30960     \n",
      "_________________________________________________________________\n",
      "batch_normalization_66 (Batc (None, 240)               960       \n",
      "_________________________________________________________________\n",
      "dropout_75 (Dropout)         (None, 240)               0         \n",
      "_________________________________________________________________\n",
      "dense_55 (Dense)             (None, 100)               24100     \n",
      "_________________________________________________________________\n",
      "dropout_76 (Dropout)         (None, 100)               0         \n",
      "_________________________________________________________________\n",
      "dense_56 (Dense)             (None, 10)                1010      \n",
      "=================================================================\n",
      "Total params: 298,694\n",
      "Trainable params: 204,774\n",
      "Non-trainable params: 93,920\n",
      "_________________________________________________________________\n"
     ]
    }
   ],
   "source": [
    "modelRevised.compile(loss='categorical_crossentropy',\n",
    "              optimizer=Adam(),\n",
    "             metrics=['accuracy'])\n",
    "modelRevised.summary()"
   ]
  },
  {
   "cell_type": "code",
   "execution_count": 143,
   "metadata": {},
   "outputs": [],
   "source": [
    "X_train_Final=[]\n",
    "X_test_Final=[]\n",
    "\n",
    "for img in X_train:\n",
    "  X_train_Final.append(np.resize(img,(28,28,1)))\n",
    "\n",
    "for img in X_test:\n",
    "  X_test_Final.append(np.resize(img,(28,28,1)))\n",
    "\n",
    "X_train_Final = np.array(X_train_Final)\n",
    "X_test_Final = np.array(X_test_Final)\n",
    "X_train_Final = X_train_Final.astype(\"float32\")\n",
    "X_test_Final = X_test_Final.astype(\"float32\")\n",
    "X_train_Final = X_train_Final/255\n",
    "X_test_Final = X_test_Final/255\n"
   ]
  },
  {
   "cell_type": "code",
   "execution_count": 144,
   "metadata": {},
   "outputs": [
    {
     "name": "stdout",
     "output_type": "stream",
     "text": [
      "[<keras.layers.convolutional.Conv2D object at 0x0000022A988C71D0>, <keras.layers.normalization.BatchNormalization object at 0x0000022A98927390>, <keras.layers.core.Dropout object at 0x0000022A988CF2E8>, <keras.layers.convolutional.Conv2D object at 0x0000022A988CFCF8>, <keras.layers.normalization.BatchNormalization object at 0x0000022A988C7198>, <keras.layers.pooling.MaxPooling2D object at 0x0000022A98892CC0>, <keras.layers.core.Dropout object at 0x0000022A9AD42588>, <keras.layers.convolutional.Conv2D object at 0x0000022A9AD694E0>, <keras.layers.normalization.BatchNormalization object at 0x0000022A98892B38>, <keras.layers.pooling.MaxPooling2D object at 0x0000022A9AE2D9E8>, <keras.layers.core.Dropout object at 0x0000022A9AE5CD30>, <keras.layers.convolutional.Conv2D object at 0x0000022A9AEA2240>, <keras.layers.normalization.BatchNormalization object at 0x0000022A9AE2D978>, <keras.layers.pooling.MaxPooling2D object at 0x0000022A9AF4BFD0>, <keras.layers.core.Dropout object at 0x0000022A9AF8D4A8>, <keras.layers.core.Flatten object at 0x0000022A9B108400>, <keras.layers.core.Dense object at 0x0000022A9DB61DD8>, <keras.layers.normalization.BatchNormalization object at 0x0000022A9DB61E48>, <keras.layers.core.Dropout object at 0x0000022A9DB61358>, <keras.layers.core.Dense object at 0x0000022A9DB615C0>, <keras.layers.core.Dropout object at 0x0000022A9DB61C88>, <keras.layers.core.Dense object at 0x0000022A9DBD5400>]\n"
     ]
    }
   ],
   "source": [
    "mylayer =modelRevised.layers\n",
    "print(mylayer)"
   ]
  },
  {
   "cell_type": "code",
   "execution_count": 145,
   "metadata": {
    "colab": {
     "autoexec": {
      "startup": false,
      "wait_interval": 0
     }
    },
    "colab_type": "code",
    "id": "uqse7-aAE1fA"
   },
   "outputs": [
    {
     "name": "stdout",
     "output_type": "stream",
     "text": [
      "Train on 60000 samples, validate on 10000 samples\n",
      "Epoch 1/25\n",
      "60000/60000 [==============================] - 1069s 18ms/step - loss: 1.5597 - acc: 0.8377 - val_loss: 0.4528 - val_acc: 0.9384\n",
      "Epoch 2/25\n",
      "60000/60000 [==============================] - 1148s 19ms/step - loss: 0.4545 - acc: 0.9313 - val_loss: 0.4349 - val_acc: 0.9321\n",
      "Epoch 3/25\n",
      "60000/60000 [==============================] - 1023s 17ms/step - loss: 0.3823 - acc: 0.9446 - val_loss: 0.4199 - val_acc: 0.9342\n",
      "Epoch 4/25\n",
      "60000/60000 [==============================] - 1150s 19ms/step - loss: 0.3551 - acc: 0.9515 - val_loss: 0.3892 - val_acc: 0.9400\n",
      "Epoch 5/25\n",
      "60000/60000 [==============================] - 1163s 19ms/step - loss: 0.3332 - acc: 0.9548 - val_loss: 0.3624 - val_acc: 0.9516\n",
      "Epoch 6/25\n",
      "60000/60000 [==============================] - 1161s 19ms/step - loss: 0.3196 - acc: 0.9591 - val_loss: 0.3560 - val_acc: 0.9494\n",
      "Epoch 7/25\n",
      "60000/60000 [==============================] - 1033s 17ms/step - loss: 0.3072 - acc: 0.9596 - val_loss: 0.2794 - val_acc: 0.9657\n",
      "Epoch 8/25\n",
      "60000/60000 [==============================] - 1017s 17ms/step - loss: 0.2981 - acc: 0.9622 - val_loss: 0.3256 - val_acc: 0.9532\n",
      "Epoch 9/25\n",
      "60000/60000 [==============================] - 1017s 17ms/step - loss: 0.2890 - acc: 0.9639 - val_loss: 0.2549 - val_acc: 0.9701\n",
      "Epoch 10/25\n",
      "60000/60000 [==============================] - 1006s 17ms/step - loss: 0.2724 - acc: 0.9656 - val_loss: 0.2600 - val_acc: 0.9659\n",
      "Epoch 11/25\n",
      "60000/60000 [==============================] - 1008s 17ms/step - loss: 0.2713 - acc: 0.9656 - val_loss: 0.2846 - val_acc: 0.9598\n",
      "Epoch 12/25\n",
      "60000/60000 [==============================] - 990s 16ms/step - loss: 0.2672 - acc: 0.9662 - val_loss: 0.2658 - val_acc: 0.9630\n",
      "Epoch 13/25\n",
      "60000/60000 [==============================] - 999s 17ms/step - loss: 0.2573 - acc: 0.9681 - val_loss: 0.2484 - val_acc: 0.9662\n",
      "Epoch 14/25\n",
      "60000/60000 [==============================] - 1009s 17ms/step - loss: 0.2505 - acc: 0.9683 - val_loss: 0.2739 - val_acc: 0.9662\n",
      "Epoch 15/25\n",
      "60000/60000 [==============================] - 991s 17ms/step - loss: 0.2468 - acc: 0.9694 - val_loss: 0.2391 - val_acc: 0.9749\n",
      "Epoch 16/25\n",
      "60000/60000 [==============================] - 992s 17ms/step - loss: 0.2431 - acc: 0.9697 - val_loss: 0.2250 - val_acc: 0.9673\n",
      "Epoch 17/25\n",
      "60000/60000 [==============================] - 1011s 17ms/step - loss: 0.2432 - acc: 0.9685 - val_loss: 0.2183 - val_acc: 0.9764\n",
      "Epoch 18/25\n",
      "60000/60000 [==============================] - 988s 16ms/step - loss: 0.2302 - acc: 0.9713 - val_loss: 0.2205 - val_acc: 0.9754\n",
      "Epoch 19/25\n",
      "60000/60000 [==============================] - 992s 17ms/step - loss: 0.2345 - acc: 0.9709 - val_loss: 0.2356 - val_acc: 0.9733\n",
      "Epoch 20/25\n",
      "60000/60000 [==============================] - 1014s 17ms/step - loss: 0.2314 - acc: 0.9716 - val_loss: 0.2302 - val_acc: 0.9705\n",
      "Epoch 21/25\n",
      "60000/60000 [==============================] - 1011s 17ms/step - loss: 0.2218 - acc: 0.9720 - val_loss: 0.2061 - val_acc: 0.9778\n",
      "Epoch 22/25\n",
      "60000/60000 [==============================] - 995s 17ms/step - loss: 0.2251 - acc: 0.9710 - val_loss: 0.2070 - val_acc: 0.9739\n",
      "Epoch 23/25\n",
      "60000/60000 [==============================] - 1001s 17ms/step - loss: 0.2202 - acc: 0.9723 - val_loss: 0.2564 - val_acc: 0.9627\n",
      "Epoch 24/25\n",
      "60000/60000 [==============================] - 1001s 17ms/step - loss: 0.2157 - acc: 0.9731 - val_loss: 0.1998 - val_acc: 0.9775\n",
      "Epoch 25/25\n",
      "60000/60000 [==============================] - 1003s 17ms/step - loss: 0.2175 - acc: 0.9725 - val_loss: 0.1798 - val_acc: 0.9792\n"
     ]
    }
   ],
   "source": [
    "#Load the weights from above and then run the model on train data of actual size, for remaining nmber of epochs\n",
    "FinalModelRun = modelRevised.fit(x=X_train_Final, y=Y_train,\n",
    "                                batch_size=32,\n",
    "                                epochs=25,\n",
    "                                verbose=1,\n",
    "                                callbacks=[reduce_lr],\n",
    "                                validation_data=(X_test_Final, Y_test)\n",
    "                               )  \n"
   ]
  },
  {
   "cell_type": "markdown",
   "metadata": {},
   "source": [
    "Following one evaluates accuracy on validation and test data epoch wise"
   ]
  },
  {
   "cell_type": "code",
   "execution_count": 146,
   "metadata": {
    "colab": {
     "autoexec": {
      "startup": false,
      "wait_interval": 0
     }
    },
    "colab_type": "code",
    "id": "cbPCHAFjE5Sj"
   },
   "outputs": [
    {
     "name": "stdout",
     "output_type": "stream",
     "text": [
      "dict_keys(['val_loss', 'val_acc', 'loss', 'acc', 'lr'])\n"
     ]
    },
    {
     "data": {
      "image/png": "[encoded data removed]",
      "text/plain": [
       "<Figure size 432x288 with 1 Axes>"
      ]
     },
     "metadata": {},
     "output_type": "display_data"
    }
   ],
   "source": [
    "print(FinalModelRun.history.keys())\n",
    "plt.plot(FinalModelRun.history['acc'])\n",
    "plt.plot(FinalModelRun.history['val_acc'])\n",
    "plt.title('model accuracy')\n",
    "plt.ylabel('accuracy')\n",
    "plt.xlabel('epoch')\n",
    "plt.legend(['train', 'test'], loc='upper left')\n",
    "plt.show()\n"
   ]
  },
  {
   "cell_type": "markdown",
   "metadata": {
    "colab_type": "text",
    "id": "3ZW5uhx5FDkF"
   },
   "source": [
    "Now we will summarise the loss during epochs with training and test data. Here we will see as loss is coming down as we go with more epochs. If these parallel plots start to depart consistently, it might be a sign to stop training at an earlier epoch."
   ]
  },
  {
   "cell_type": "code",
   "execution_count": 148,
   "metadata": {
    "colab": {
     "autoexec": {
      "startup": false,
      "wait_interval": 0
     }
    },
    "colab_type": "code",
    "id": "_HyOopmmFA6N"
   },
   "outputs": [
    {
     "data": {
      "image/png": "[encoded data removed]",
      "text/plain": [
       "<Figure size 432x288 with 1 Axes>"
      ]
     },
     "metadata": {},
     "output_type": "display_data"
    }
   ],
   "source": [
    "plt.plot(FinalModelRun.history['loss'])\n",
    "plt.plot(FinalModelRun.history['val_loss'])\n",
    "plt.title('model loss')\n",
    "plt.ylabel('loss')\n",
    "plt.xlabel('epoch')\n",
    "plt.legend(['train', 'test'], loc='upper left')\n",
    "plt.show()"
   ]
  },
  {
   "cell_type": "code",
   "execution_count": 150,
   "metadata": {},
   "outputs": [],
   "source": [
    "#]\n",
    "reduce_lr_revised = ReduceLROnPlateau(monitor='val_loss', factor=0.25,verbose=1,\n",
    "                              patience=5, min_lr=0.001)"
   ]
  },
  {
   "cell_type": "code",
   "execution_count": 154,
   "metadata": {},
   "outputs": [
    {
     "name": "stdout",
     "output_type": "stream",
     "text": [
      "_________________________________________________________________\n",
      "Layer (type)                 Output Shape              Param #   \n",
      "=================================================================\n",
      "conv2d_74 (Conv2D)           (None, 26, 26, 32)        320       \n",
      "_________________________________________________________________\n",
      "batch_normalization_83 (Batc (None, 26, 26, 32)        128       \n",
      "_________________________________________________________________\n",
      "dropout_96 (Dropout)         (None, 26, 26, 32)        0         \n",
      "_________________________________________________________________\n",
      "conv2d_75 (Conv2D)           (None, 24, 24, 64)        18496     \n",
      "_________________________________________________________________\n",
      "batch_normalization_84 (Batc (None, 24, 24, 64)        256       \n",
      "_________________________________________________________________\n",
      "max_pooling2d_54 (MaxPooling (None, 12, 12, 64)        0         \n",
      "_________________________________________________________________\n",
      "dropout_97 (Dropout)         (None, 12, 12, 64)        0         \n",
      "_________________________________________________________________\n",
      "conv2d_76 (Conv2D)           (None, 10, 10, 128)       73856     \n",
      "_________________________________________________________________\n",
      "batch_normalization_85 (Batc (None, 10, 10, 128)       512       \n",
      "_________________________________________________________________\n",
      "max_pooling2d_55 (MaxPooling (None, 5, 5, 128)         0         \n",
      "_________________________________________________________________\n",
      "dropout_98 (Dropout)         (None, 5, 5, 128)         0         \n",
      "_________________________________________________________________\n",
      "conv2d_77 (Conv2D)           (None, 5, 5, 256)         33024     \n",
      "_________________________________________________________________\n",
      "batch_normalization_86 (Batc (None, 5, 5, 256)         1024      \n",
      "_________________________________________________________________\n",
      "max_pooling2d_56 (MaxPooling (None, 2, 2, 256)         0         \n",
      "_________________________________________________________________\n",
      "dropout_99 (Dropout)         (None, 2, 2, 256)         0         \n",
      "_________________________________________________________________\n",
      "flatten_18 (Flatten)         (None, 1024)              0         \n",
      "_________________________________________________________________\n",
      "dense_65 (Dense)             (None, 210)               215040    \n",
      "_________________________________________________________________\n",
      "dropout_100 (Dropout)        (None, 210)               0         \n",
      "_________________________________________________________________\n",
      "dense_66 (Dense)             (None, 10)                2110      \n",
      "=================================================================\n",
      "Total params: 344,766\n",
      "Trainable params: 343,806\n",
      "Non-trainable params: 960\n",
      "_________________________________________________________________\n",
      "Train on 60000 samples, validate on 10000 samples\n",
      "Epoch 1/15\n",
      "60000/60000 [==============================] - 1490s 25ms/step - loss: 0.2488 - acc: 0.9239 - val_loss: 0.0597 - val_acc: 0.9807\n",
      "Epoch 2/15\n",
      "60000/60000 [==============================] - 1143s 19ms/step - loss: 0.0986 - acc: 0.9707 - val_loss: 0.0491 - val_acc: 0.9857\n",
      "Epoch 3/15\n",
      "60000/60000 [==============================] - 1156s 19ms/step - loss: 0.0816 - acc: 0.9761 - val_loss: 0.0438 - val_acc: 0.9882\n",
      "Epoch 4/15\n",
      "60000/60000 [==============================] - 1150s 19ms/step - loss: 0.0717 - acc: 0.9799 - val_loss: 0.0375 - val_acc: 0.9908\n",
      "Epoch 5/15\n",
      "60000/60000 [==============================] - 1271s 21ms/step - loss: 0.0644 - acc: 0.9813 - val_loss: 0.0358 - val_acc: 0.9906\n",
      "Epoch 6/15\n",
      "60000/60000 [==============================] - 1304s 22ms/step - loss: 0.0634 - acc: 0.9830 - val_loss: 0.0386 - val_acc: 0.9903\n",
      "Epoch 7/15\n",
      "60000/60000 [==============================] - 1225s 20ms/step - loss: 0.0569 - acc: 0.9843 - val_loss: 0.0368 - val_acc: 0.9914\n",
      "Epoch 8/15\n",
      "60000/60000 [==============================] - 1259s 21ms/step - loss: 0.0528 - acc: 0.9856 - val_loss: 0.0365 - val_acc: 0.9918\n",
      "Epoch 9/15\n",
      "60000/60000 [==============================] - 1352s 23ms/step - loss: 0.0493 - acc: 0.9863 - val_loss: 0.0372 - val_acc: 0.9917\n",
      "Epoch 10/15\n",
      "60000/60000 [==============================] - 1399s 23ms/step - loss: 0.0471 - acc: 0.9868 - val_loss: 0.0357 - val_acc: 0.9917\n",
      "\n",
      "Epoch 00010: ReduceLROnPlateau reducing learning rate to 0.001.\n",
      "Epoch 11/15\n",
      "60000/60000 [==============================] - 1426s 24ms/step - loss: 0.0414 - acc: 0.9886 - val_loss: 0.0386 - val_acc: 0.9925\n",
      "Epoch 12/15\n",
      "60000/60000 [==============================] - 1391s 23ms/step - loss: 0.0438 - acc: 0.9881 - val_loss: 0.0374 - val_acc: 0.9919\n",
      "Epoch 13/15\n",
      "60000/60000 [==============================] - 1231s 21ms/step - loss: 0.0414 - acc: 0.9882 - val_loss: 0.0309 - val_acc: 0.9934\n",
      "Epoch 14/15\n",
      "60000/60000 [==============================] - 1181s 20ms/step - loss: 0.0350 - acc: 0.9897 - val_loss: 0.0358 - val_acc: 0.9925\n",
      "Epoch 15/15\n",
      "60000/60000 [==============================] - 1165s 19ms/step - loss: 0.0379 - acc: 0.9890 - val_loss: 0.0352 - val_acc: 0.9930\n"
     ]
    }
   ],
   "source": [
    "modelWOImageChange = Sequential() # here we are defining the model to be executed in sequential\n",
    "droprate=0.15\n",
    "droprateRev=0.3\n",
    "#convolution 1st layer\n",
    "modelWOImageChange.add(Conv2D(32,(3,3), activation='relu', strides=(1, 1), padding='valid', input_shape=(28,28,1)))\n",
    "#model.add(Conv2D(32,(3,1), activation='relu', strides=(1, 1), padding='valid',input_shape=input_24)#(input_24)\n",
    "modelWOImageChange.add(BatchNormalization())\n",
    "modelWOImageChange.add(Dropout(droprate))#3\n",
    "\n",
    "#convolution 2nd layer\n",
    "modelWOImageChange.add(Conv2D(64,(3,3), activation='relu'))\n",
    "modelWOImageChange.add(BatchNormalization())\n",
    "modelWOImageChange.add(MaxPooling2D())\n",
    "modelWOImageChange.add(Dropout(droprate))#3\n",
    "\n",
    "#convolution 3rd layer\n",
    "modelWOImageChange.add(Conv2D(128,(3,3), activation='relu'))\n",
    "modelWOImageChange.add(BatchNormalization())\n",
    "modelWOImageChange.add(MaxPooling2D())\n",
    "modelWOImageChange.add(Dropout(droprateRev))#3\n",
    "\n",
    "#convolution 3rd layer\n",
    "modelWOImageChange.add(Conv2D(256,(1,1), activation='relu'))\n",
    "modelWOImageChange.add(BatchNormalization())\n",
    "modelWOImageChange.add(MaxPooling2D())\n",
    "modelWOImageChange.add(Dropout(droprateRev))#3\n",
    "\n",
    "\n",
    "#Fully connected final layer\n",
    "modelWOImageChange.add(Flatten())\n",
    "modelWOImageChange.add(Dense(210, activation='relu',use_bias=False, kernel_initializer='glorot_uniform'))\n",
    "modelWOImageChange.add(Dropout(droprateRev))#3\n",
    "\n",
    "\n",
    "modelWOImageChange.add(Dense(10, activation='softmax'))\n",
    "\n",
    "modelWOImageChange.compile(loss='categorical_crossentropy',\n",
    "              optimizer=Adam(),\n",
    "             metrics=['accuracy'])\n",
    "modelWOImageChange.summary()\n",
    "\n",
    "callbacks = [\n",
    "    EarlyStopping(\n",
    "        monitor='val_acc', \n",
    "        patience=10,\n",
    "        mode='max',\n",
    "        verbose=1),\n",
    "    ModelCheckpoint(model_path,\n",
    "        monitor='val_acc', \n",
    "        save_best_only=True, \n",
    "        mode='max',\n",
    "        verbose=0)\n",
    "]\n",
    "\n",
    "FinalModelRunWOImage = modelWOImageChange.fit(x=X_train_Final, y=Y_train,\n",
    "                                batch_size=32,\n",
    "                                epochs=15,\n",
    "                                verbose=1,\n",
    "                                callbacks=[reduce_lr_revised],\n",
    "                                validation_data=(X_test_Final, Y_test)\n",
    "                               )  "
   ]
  },
  {
   "cell_type": "code",
   "execution_count": 155,
   "metadata": {},
   "outputs": [
    {
     "name": "stdout",
     "output_type": "stream",
     "text": [
      "dict_keys(['val_loss', 'val_acc', 'loss', 'acc', 'lr'])\n"
     ]
    },
    {
     "data": {
      "image/png": "[encoded data removed]",
      "text/plain": [
       "<Figure size 432x288 with 1 Axes>"
      ]
     },
     "metadata": {},
     "output_type": "display_data"
    }
   ],
   "source": [
    "print(FinalModelRunWOImage.history.keys())\n",
    "plt.plot(FinalModelRunWOImage.history['acc'])\n",
    "plt.plot(FinalModelRunWOImage.history['val_acc'])\n",
    "plt.title('Revised model accuracy')\n",
    "plt.ylabel('accuracy')\n",
    "plt.xlabel('epoch')\n",
    "plt.legend(['train', 'test'], loc='upper left')\n",
    "plt.show()\n"
   ]
  },
  {
   "cell_type": "code",
   "execution_count": 156,
   "metadata": {},
   "outputs": [
    {
     "data": {
      "image/png": "[encoded data removed]",
      "text/plain": [
       "<Figure size 432x288 with 1 Axes>"
      ]
     },
     "metadata": {},
     "output_type": "display_data"
    }
   ],
   "source": [
    "plt.plot(FinalModelRunWOImage.history['loss'])\n",
    "plt.plot(FinalModelRunWOImage.history['val_loss'])\n",
    "plt.title('Revised model loss')\n",
    "plt.ylabel('loss')\n",
    "plt.xlabel('epoch')\n",
    "plt.legend(['train', 'test'], loc='upper left')\n",
    "plt.show()"
   ]
  },
  {
   "cell_type": "code",
   "execution_count": null,
   "metadata": {},
   "outputs": [],
   "source": []
  }
 ],
 "metadata": {
  "colab": {
   "collapsed_sections": [],
   "default_view": {},
   "name": "mninst_cnn_Notebook.ipynb",
   "provenance": [],
   "version": "0.3.2",
   "views": {}
  },
  "kernelspec": {
   "display_name": "Python 3",
   "language": "python",
   "name": "python3"
  },
  "language_info": {
   "codemirror_mode": {
    "name": "ipython",
    "version": 3
   },
   "file_extension": ".py",
   "mimetype": "text/x-python",
   "name": "python",
   "nbconvert_exporter": "python",
   "pygments_lexer": "ipython3",
   "version": "3.6.5"
  }
 },
 "nbformat": 4,
 "nbformat_minor": 1
}
